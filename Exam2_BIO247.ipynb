{
 "cells": [
  {
   "cell_type": "raw",
   "id": "833d0143-60eb-4a0b-be12-5348837cc871",
   "metadata": {
    "vscode": {
     "languageId": "raw"
    }
   },
   "source": [
    "---\n",
    "title: \"Exam 2: BIO247\"\n",
    "author: Your Name\n",
    "date: '24 March 2024'\n",
    "format: \n",
    "  html:\n",
    "    code-fold: true\n",
    "jupyter: python3\n",
    "---"
   ]
  },
  {
   "cell_type": "markdown",
   "id": "fcf832fc",
   "metadata": {},
   "source": [
    "# Introduction\n",
    "\n",
    "Welcome to exam 2! This exam is meant to assess how you're able to use and adapt the skills we've developed in class so far. This is a take-home exam, meaning you are able to complete it outside of class. That also means you are able to use any resources in the slides, textbooks, notes, or interenet to help you complete the exam. The only thin you are not allowed to use is each other - all work must be your own! If you use sources like online forums or AI to complete your exams, you **must** be sure to cite your source. You do that by placing a version of this comment at the bottom of your coding cell:\n",
    "\n",
    "    # This problem was completed using ChatGPT/GeeksforGeeks/StackOverflow/etc.\n",
    "    # Prompt/page title: <PROMPT>\n",
    "\n",
    "\n",
    "You will have one week to complete this exam - it is due at the start of lab (2:20pm) on Monday, 31 March. For each problem, 10% of the points are for your style and comments - don't forget to follow the PEP-8 guidelines\n",
    "\n",
    "In this exam, you may wish to use mathematical formatting in your text. Markdown uses the same mathematical formatting a LaTeX, which is very easy to find. Some common examples are included here:\n",
    "To create a centered, formatted equation, use the `$$...$$` characters (you must have a blank line above and below). `$$E = mc^2$$` becomes\n",
    "\n",
    "$$E=mc^2$$\n",
    "\n",
    "To have mathematical symbols or variables within the text, you make use of the `$$` symbols. For example `$R$` becomes $R$. For greek letters, you simply use `$\\letter$` or `$\\Letter$` (depending on if you need the capitilized version or not. So `$\\delta$` becomes $\\delta$ and `$\\Delta$` becomes $\\Delta$. Some other useful syntax:\n",
    "\n",
    "* Superscripts (^): `$e^{3x}$` $\\rightarrow e^{3x}$\n",
    "* Subscripts (_): `$k_{m+}$` $\\rightarrow k_{m+}$\n",
    "* Right arrow (or left): `$\\rightarrow$` $\\rightarrow$ \n",
    "\n",
    "If you need any other symbols, online tools like [http://detexify.kirelabs.org/classify.html](Detexixfy) are very helpful\n"
   ]
  },
  {
   "cell_type": "code",
   "execution_count": null,
   "id": "5cf524d1-35a8-4620-817d-d8d18939b635",
   "metadata": {},
   "outputs": [],
   "source": [
    "'''\n",
    "Preamble\n",
    "'''\n",
    "\n",
    "# Time to start practicing your good habits! \n",
    "# Don't forget to execute this cell before doing anything with your code below\n",
    "\n"
   ]
  },
  {
   "cell_type": "markdown",
   "id": "7fac9de4",
   "metadata": {},
   "source": [
    "### Problem 1 (45 points)\n",
    "\n",
    "A one-dimensional energy equation is given by \n",
    "\n",
    "$$g(x) = x^8 - 5x^5 +3x^3 - 2x^2 - 1$$\n",
    "\n",
    "#### (A) Explain how you find the minima of an equation (5 points)\n",
    "\n",
    "(type answer here)"
   ]
  },
  {
   "cell_type": "markdown",
   "id": "95763fdf",
   "metadata": {},
   "source": [
    "#### (B) Find the 2 minima of g(x) (10 points)\n",
    "\n",
    "(type answer here - it is acceptable to hand-write your solution and insert an image of your work)"
   ]
  },
  {
   "cell_type": "markdown",
   "id": "c92d27f6",
   "metadata": {},
   "source": [
    "#### (C) What is the equation for a Taylor series expansion around x=a? (3 points)\n",
    "\n",
    "(type answer here)"
   ]
  },
  {
   "cell_type": "markdown",
   "id": "63ef3caa",
   "metadata": {},
   "source": [
    "#### (D) What is the “order” of a function? (3 points)\n",
    "\n",
    "(type answer here)"
   ]
  },
  {
   "cell_type": "markdown",
   "id": "48401935",
   "metadata": {},
   "source": [
    "#### (E) Write the Taylor series expansion around the largest minimum to the second order (10 points)\n",
    "\n",
    "(type answer here - it is acceptable to hand-write your solution and insert an image of your work)"
   ]
  },
  {
   "cell_type": "markdown",
   "id": "c48e694e",
   "metadata": {},
   "source": [
    "#### (F) Use Python to plot both the original energy function and the Taylor approximation on the same graph (10 points) Be sure to comment your code! (2 points)"
   ]
  },
  {
   "cell_type": "code",
   "execution_count": null,
   "id": "688ca425",
   "metadata": {},
   "outputs": [],
   "source": [
    "'''\n",
    "Code for Problem 1F\n",
    "'''"
   ]
  },
  {
   "cell_type": "markdown",
   "id": "fb0deb5a",
   "metadata": {},
   "source": [
    "#### (G) What does this graph tell us about our approximation? (2 points)\n",
    "\n",
    "(type answer here)"
   ]
  },
  {
   "cell_type": "markdown",
   "id": "9468c3ca",
   "metadata": {},
   "source": [
    "### Problem 2 (10 points)\n",
    "\n",
    "The following lists the steps of an E. coli cell across the surface of an aqueous fluid. Using code, alculate\n",
    "\n",
    "* The total distance tranveled by the E. coli (5 points)\n",
    "* The distance the E. coli traveled from its inital position (5 points)"
   ]
  },
  {
   "cell_type": "code",
   "execution_count": null,
   "id": "be860160",
   "metadata": {},
   "outputs": [],
   "source": [
    "'''\n",
    "Problem 2 code\n",
    "'''"
   ]
  },
  {
   "cell_type": "markdown",
   "id": "af5a59bb",
   "metadata": {},
   "source": [
    "### Problem 3 (50 points)\n",
    "\n",
    "You will use the paper from Zingoni, et al. to complete this problem.\n",
    "\n",
    "#### (A) This paper uses Markov chains to model HIV disease progression. Use the data from the paper to recreate the Probability Matrix (10 points)\n",
    "\n",
    "**Hint 1**: The answers you’re looking for are in Table 3\n",
    "**Hint 2**: There is already a version of the probability matrix P(t), in the paper. You need to fill in the probability values for each state transition (the matrix in the paper will help you figure out what value goes where)\n",
    "\n",
    "\n",
    "(type answer here)\n"
   ]
  },
  {
   "cell_type": "markdown",
   "id": "8fe148b5",
   "metadata": {},
   "source": [
    "#### (B) Define your initial state, and explain what it means biologically (10 points)\n",
    "\n",
    "(explain here)"
   ]
  },
  {
   "cell_type": "code",
   "execution_count": null,
   "id": "c334c191",
   "metadata": {},
   "outputs": [],
   "source": [
    "'''\n",
    "Code for Problem 3B\n",
    "'''"
   ]
  },
  {
   "cell_type": "markdown",
   "id": "c46d27c0",
   "metadata": {},
   "source": [
    "#### (C) Simulate your model for 5000 timesteps (10 points) "
   ]
  },
  {
   "cell_type": "code",
   "execution_count": null,
   "id": "447cd761",
   "metadata": {},
   "outputs": [],
   "source": [
    "'''\n",
    "Code for Problem 3C\n",
    "'''"
   ]
  },
  {
   "cell_type": "markdown",
   "id": "fc88e9a3",
   "metadata": {},
   "source": [
    "#### (D) Create a graph with traces for all 5 states of the disease (20 points) Be sure to:\n",
    "\n",
    "* include a legend\n",
    "* comment your code\n"
   ]
  },
  {
   "cell_type": "code",
   "execution_count": null,
   "id": "0971ec31",
   "metadata": {},
   "outputs": [],
   "source": [
    "'''\n",
    "Code from Problem 3D\n",
    "'''"
   ]
  },
  {
   "cell_type": "markdown",
   "id": "03933e75",
   "metadata": {},
   "source": [
    "### Problem 4 (20 points)\n",
    "Using the network from Module 1 of Lab 8, write a Python program that counts the number of : \n",
    "\n",
    "* mutual regulation ($x \\rightarrow y, y \\rightarrow x$) (5 points)\n",
    "* cascades ($x \\rightarrow y, y \\rightarrow z$) (5 points)\n",
    "* fan-outs ($x \\rightarrow y, x \\rightarrow z$) (5 points)\n",
    "\n",
    "It’s fine to use external packages for graph analysis. Be careful to explain and be consistent in the counting methods that you use for fan-outs and cascades. For example, fan-outs that originate from the same node (i.e. x → u, x → v, x → w) should be counted as a single fan-out but can also be individually counted as fan-outs of size ‘n’ if you choose. Similarly, for cascades i.e. x → u, u → v, v → w can either be counted as a single cascade or a cascade of size ‘n’ (4 in this example). Note: the network is presented in the file as two columns of numbers, the first is the index of the origin of the arrow, and the second is the target of the arrow.\n"
   ]
  },
  {
   "cell_type": "code",
   "execution_count": null,
   "id": "1c09f8ec",
   "metadata": {},
   "outputs": [],
   "source": [
    "'''\n",
    "Problem 4 Code\n",
    "'''"
   ]
  }
 ],
 "metadata": {
  "kernelspec": {
   "display_name": "Python 3",
   "language": "python",
   "name": "python3"
  },
  "language_info": {
   "codemirror_mode": {
    "name": "ipython",
    "version": 3
   },
   "file_extension": ".py",
   "mimetype": "text/x-python",
   "name": "python",
   "nbconvert_exporter": "python",
   "pygments_lexer": "ipython3",
   "version": "3.12.1"
  }
 },
 "nbformat": 4,
 "nbformat_minor": 5
}
