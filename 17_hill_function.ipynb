{
 "cells": [
  {
   "cell_type": "raw",
   "metadata": {
    "vscode": {
     "languageId": "raw"
    }
   },
   "source": [
    "---\n",
    "title: \"Lecture 17: Investigating the Hill Function - an activity\"\n",
    "author: Casey Hansen\n",
    "date: '28 Februaury 2024'\n",
    "format: \n",
    "  html:\n",
    "    code-fold: true\n",
    "jupyter: python3\n",
    "---"
   ]
  },
  {
   "cell_type": "code",
   "execution_count": 1,
   "metadata": {},
   "outputs": [],
   "source": [
    "'''\n",
    "Preamble\n",
    "'''\n",
    "\n",
    "import matplotlib.pyplot as plt"
   ]
  },
  {
   "cell_type": "markdown",
   "metadata": {},
   "source": [
    "### Define Hill Function\n",
    "\n",
    "I want to create a self-defined function to represent the Hill Function so that I can investigate the function and its biological implications visually. By creating a function, I can use the function to create a visualization for various numbers of binding site and various $\\frac{[L]}{K_d}$ values.\n",
    "\n",
    "*Additional information is found in lecture 15 and lecture 16 notes*\n",
    "\n",
    "As a reminder, the Hill Function is:\n",
    "\n",
    "$$ P^{(n)}_{bound} = \\frac{x^n}{1+x^n}, $$\n",
    "\n",
    "where $x$ is $\\frac{[L]}{K_d}$ and $n$ is the number of binding sites"
   ]
  },
  {
   "cell_type": "code",
   "execution_count": 2,
   "metadata": {},
   "outputs": [],
   "source": [
    "'''\n",
    "Creating Hill Function\n",
    "'''\n",
    "\n",
    "# Define Hill Function that takes in x,n as argument\n",
    "def hill_fn(x,n):\n",
    "    value = (x**n)/(1+(x**n))\n",
    "    return value"
   ]
  },
  {
   "cell_type": "markdown",
   "metadata": {},
   "source": [
    "### Use the defined function to visualize system behavior\n",
    "\n",
    "In order to view this function on a graph, I have to generate a series of $x$ and $y$ data so that Python knows what to plot. As fo yet, Python will not automatically plot a function on an x-y-axis.\n",
    "\n",
    "To generate this series, I need to do two things:\n",
    "\n",
    "1. create input ($x$) data - this can be a series of numbers on any scale, to start with 1-10 seems fine\n",
    "2. feed the input from part 1 into my defined function to create a series of y data"
   ]
  },
  {
   "cell_type": "code",
   "execution_count": 3,
   "metadata": {},
   "outputs": [],
   "source": [
    "'''\n",
    "Create data to graph\n",
    "'''\n",
    "\n",
    "# first set number of binding sites\n",
    "n = 2\n",
    "# then create x data, representing L/Kd\n",
    "ligs = range(0,10)\n",
    "# use Hill Function to create y data\n",
    "# calculate output for every value in ligs\n",
    "prob = [hill_fn(x,n) for x in ligs]"
   ]
  },
  {
   "cell_type": "markdown",
   "metadata": {},
   "source": [
    "### Plot the generated data\n",
    "\n",
    "Finally, I'm going to plot my generated data so I can actually look at it!"
   ]
  },
  {
   "cell_type": "code",
   "execution_count": 4,
   "metadata": {},
   "outputs": [
    {
     "data": {
      "image/png": "[encoded data removed]",
      "text/plain": [
       "<Figure size 640x480 with 1 Axes>"
      ]
     },
     "metadata": {},
     "output_type": "display_data"
    }
   ],
   "source": [
    "# first, create plot\n",
    "plt.plot(ligs, prob)\n",
    "\n",
    "# Add in graph labels\n",
    "plt.xlabel(\"[L]/Kd\")\n",
    "plt.ylabel(\"Probability of binding\")\n",
    "\n",
    "# Force python to show graph\n",
    "plt.show()"
   ]
  },
  {
   "cell_type": "markdown",
   "metadata": {},
   "source": [
    "### Further Investigation\n",
    "\n",
    "I want to know what the optimal Ligand concentration is. I want my probability of binding to be at least 90, and then I want to back-calculate the $[L]$ value. To do that, I'm going to\n",
    "\n",
    "1. Find the $\\frac{[L]}{K_d}$ ratio value where $P_{bound}>0.9$\n",
    "1. Research my Dissociation constant\n",
    "1. Calculate $[L]$ as $ratio \\times K_d$"
   ]
  },
  {
   "cell_type": "code",
   "execution_count": null,
   "metadata": {},
   "outputs": [
    {
     "name": "stdout",
     "output_type": "stream",
     "text": [
      "The necessary ligand concenration is 4e-12 M\n"
     ]
    }
   ],
   "source": [
    "'''\n",
    "E. Coli Investigation\n",
    "'''\n",
    "\n",
    "# Dissociation constant for lac-receptor (in M)\n",
    "k_d = 10E-13\n",
    "\n",
    "# Search prob data for value > 0.9\n",
    "# Found answer on Stack Overflow: \n",
    "# 'find first element and index matching condition in list'\n",
    "val = list(x > 0.9 for x in prob).index(True)\n",
    "\n",
    "# find the L/Kd ratio at that location\n",
    "ratio = ligs[4]\n",
    "\n",
    "\n",
    "# Calculate the ligand concentration here\n",
    "l_conc = ratio*k_d\n",
    "print(f\"The necessary ligand concenration is {l_conc} M\")"
   ]
  }
 ],
 "metadata": {
  "kernelspec": {
   "display_name": "Python 3",
   "language": "python",
   "name": "python3"
  },
  "language_info": {
   "codemirror_mode": {
    "name": "ipython",
    "version": 3
   },
   "file_extension": ".py",
   "mimetype": "text/x-python",
   "name": "python",
   "nbconvert_exporter": "python",
   "pygments_lexer": "ipython3",
   "version": "3.12.1"
  }
 },
 "nbformat": 4,
 "nbformat_minor": 2
}
