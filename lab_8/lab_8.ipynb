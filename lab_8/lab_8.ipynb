{
 "cells": [
  {
   "cell_type": "raw",
   "id": "8bd9c620-2850-44a1-bd72-361c57b5a217",
   "metadata": {
    "vscode": {
     "languageId": "raw"
    }
   },
   "source": [
    "---\n",
    "title: \"Lab 8: Finding Motifs in Transcription Factor Networks\"\n",
    "author: Your Name\n",
    "date: '24 March 2024'\n",
    "format: \n",
    "  html:\n",
    "    code-fold: true\n",
    "jupyter: python3\n",
    "---"
   ]
  },
  {
   "cell_type": "markdown",
   "id": "a2e05aef-b288-49e3-96e1-1b3ed5c72e71",
   "metadata": {},
   "source": [
    "# Introduction\n",
    "\n",
    "In today's lab, we'll be taking a Systems Modeling approach to the motifs we've learned out during lecture. In this lab we'l be looking at clever ways to identify loops within a model network, looking at the difference between simple regulation and autoregulation, implementing a feed-forward loop, and learn about repressilators (yes that's a real word). "
   ]
  },
  {
   "cell_type": "code",
   "execution_count": null,
   "id": "95b4747c-baab-4498-8953-e3580dc563ea",
   "metadata": {},
   "outputs": [],
   "source": [
    "'''\n",
    "Preamble\n",
    "'''\n",
    "#%pip install python-igraph\n",
    "from igraph import *\n",
    "from network_loader import *\n",
    "import matplotlib.pyplot as plt\n",
    "import random"
   ]
  },
  {
   "cell_type": "markdown",
   "id": "daf57b93-9809-4c83-bd4b-736de880d0f1",
   "metadata": {},
   "source": [
    "# Module 1 - Looking for Loops\n",
    "In this module, you'll be using an iPy notebook to analyze the *E. Coli* transcription factor network. In addition to the coding chunk below, you're also going to need to download 'network_tf_tf_clean.txt' from the [class github](https://github.com/casey-hansen/dubjay_sysbio)\n",
    "\n",
    "### Task 1.1 Before running the coding chunk below, look at the data text file, and try to figure out what the data is saying. How is it organized? What information is held? [2 Points]"
   ]
  },
  {
   "cell_type": "code",
   "execution_count": null,
   "id": "1f0ec4eb-6ea7-41d6-9d4c-7c3ca4198ab8",
   "metadata": {},
   "outputs": [],
   "source": [
    "txt_file = 'network_tf_tf_clean.txt'\n",
    "\n",
    "network, vertex_names = open_network(txt_file)\n",
    "\n",
    "# how many nodes & edges\n",
    "print(\"Number of nodes: \", len(network.vs))\n",
    "print(\"Number of edges: \", len(network.es))\n",
    "print(\"Number of self-loops: \", sum(Graph.is_loop(network)))"
   ]
  },
  {
   "cell_type": "markdown",
   "id": "3eed0f1a-bbbe-44e8-9f74-22073062edbd",
   "metadata": {},
   "source": [
    "### Task 1.2 Run the code chunk below to generate a randomized Erdos Renyi network of the *E. Coli* transcription network. Compare it to the data-informed network. What differences do you see between the network statistics? What does this mean?"
   ]
  },
  {
   "cell_type": "code",
   "execution_count": null,
   "id": "d6d3be1a-5f58-4798-b558-e32defe55046",
   "metadata": {},
   "outputs": [],
   "source": [
    "random.seed(42)\n",
    "g = Graph.Erdos_Renyi(197,m=477,directed=True, loops=True)\n",
    "# how many nodes & edges\n",
    "print(\"Number of nodes: \", len(g.vs))\n",
    "print(\"Number of edges: \", len(g.es))\n",
    "print(\"Number of self-loops: \", sum(Graph.is_loop(g)))"
   ]
  },
  {
   "cell_type": "markdown",
   "id": "4a77c5ee-11d6-4fd7-80c1-9a1d7a6a0882",
   "metadata": {},
   "source": [
    "# Module 2 - Visualization\n",
    "\n",
    "Okay, so we can calculate some stats for a given network. But it would be nice if we had a visualization to go along with that. Look online to try and find a way to graph the networks defined in Module 1. Try at least 2 methods. If they don't work, try to figure out why not."
   ]
  },
  {
   "cell_type": "code",
   "execution_count": null,
   "id": "0f259f19-6839-467d-96d0-3ddbb87dc187",
   "metadata": {},
   "outputs": [],
   "source": [
    "'''\n",
    "Module 2\n",
    "'''"
   ]
  },
  {
   "cell_type": "markdown",
   "id": "2cbde530-b744-42c0-b40f-338e3ac38e91",
   "metadata": {},
   "source": [
    "### Module 3 - Identifying Motifs\n",
    "\n",
    "We want to find the number of C1-FFLs in our network: $x \\rightarrow y \\rightarrow z$ **and** $x \\rightarrow z$\n",
    "\n",
    "Using the module from model 1, write a piece of code that looks for I1-FFLs, and prints out the totla number in the network\n"
   ]
  },
  {
   "cell_type": "code",
   "execution_count": null,
   "id": "0ac5b347-d7fc-47ff-ba0b-ca6887dfab26",
   "metadata": {},
   "outputs": [],
   "source": [
    "'''\n",
    "Module 3\n",
    "'''"
   ]
  }
 ],
 "metadata": {
  "kernelspec": {
   "display_name": "Python 3 (ipykernel)",
   "language": "python",
   "name": "python3"
  },
  "language_info": {
   "codemirror_mode": {
    "name": "ipython",
    "version": 3
   },
   "file_extension": ".py",
   "mimetype": "text/x-python",
   "name": "python",
   "nbconvert_exporter": "python",
   "pygments_lexer": "ipython3",
   "version": "3.12.1"
  }
 },
 "nbformat": 4,
 "nbformat_minor": 5
}
