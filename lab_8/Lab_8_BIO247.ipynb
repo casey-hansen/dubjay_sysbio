{
 "cells": [
  {
   "cell_type": "raw",
   "id": "8bd9c620-2850-44a1-bd72-361c57b5a217",
   "metadata": {},
   "source": [
    "---\n",
    "title: \"Lab 8: Finding Motifs in Transcription Factor Networks\"\n",
    "author: Your Name\n",
    "date: '3 April 2024'\n",
    "format: \n",
    "  html:\n",
    "    code-fold: true\n",
    "jupyter: python3\n",
    "---"
   ]
  },
  {
   "cell_type": "markdown",
   "id": "a2e05aef-b288-49e3-96e1-1b3ed5c72e71",
   "metadata": {},
   "source": [
    "# Introduction\n",
    "\n",
    "In today's lab, we'll be taking a Systems Modeling approach to the motifs we've learned out during lecture. In this lab we'l be looking at clever ways to identify loops within a model network, looking at the difference between simple regulation and autoregulation, implementing a feed-forward loop, and learn about repressilators (yes that's a real word). "
   ]
  },
  {
   "cell_type": "code",
   "execution_count": null,
   "id": "95b4747c-baab-4498-8953-e3580dc563ea",
   "metadata": {},
   "outputs": [],
   "source": [
    "'''\n",
    "Preamble\n",
    "'''\n",
    "#%pip install python-igraph\n",
    "from igraph import *\n",
    "from network_loader import *\n",
    "import matplotlib.pyplot as plt\n",
    "import random"
   ]
  },
  {
   "cell_type": "markdown",
   "id": "daf57b93-9809-4c83-bd4b-736de880d0f1",
   "metadata": {},
   "source": [
    "# Module 1 - Looking for Loops\n",
    "In this module, you'll be using an iPy notebook to analyze the *E. Coli* transcription factor network. In addition to the coding chunk below, you're also going to need to download 'network_tf_tf_clean.txt' from the [class github](https://github.com/casey-hansen/dubjay_sysbio)\n",
    "\n",
    "### Task 1.1 Before running the coding chunk below, look at the data text file, and try to figure out what the data is saying. How is it organized? What information is held? [2 Points]"
   ]
  },
  {
   "cell_type": "markdown",
   "id": "8cd80f49-9ff9-4257-a2ad-2a9fed452da7",
   "metadata": {},
   "source": [
    "### Response 1.1\n",
    "\n",
    "(type here)"
   ]
  },
  {
   "cell_type": "code",
   "execution_count": null,
   "id": "1f0ec4eb-6ea7-41d6-9d4c-7c3ca4198ab8",
   "metadata": {},
   "outputs": [],
   "source": [
    "txt_file = 'network_tf_tf_clean.txt'\n",
    "\n",
    "network, vertex_names = open_network(txt_file)\n",
    "\n",
    "# how many nodes & edges\n",
    "print(\"Number of nodes: \", len(network.vs))\n",
    "print(\"Number of edges: \", len(network.es))\n",
    "print(\"Number of self-loops: \", sum(Graph.is_loop(network)))"
   ]
  },
  {
   "cell_type": "markdown",
   "id": "3eed0f1a-bbbe-44e8-9f74-22073062edbd",
   "metadata": {},
   "source": [
    "### Task 1.2 Run the code chunk below to generate a randomized Erdos Renyi network of the *E. Coli* transcription network. Compare it to the data-informed network. What differences do you see between the network statistics? What does this mean? [2 points]"
   ]
  },
  {
   "cell_type": "markdown",
   "id": "9190837b-254a-4b86-bf68-0863e91b6efb",
   "metadata": {},
   "source": [
    "### Reponse 1.2\n",
    "(type here)"
   ]
  },
  {
   "cell_type": "code",
   "execution_count": null,
   "id": "d6d3be1a-5f58-4798-b558-e32defe55046",
   "metadata": {},
   "outputs": [],
   "source": [
    "random.seed(42)\n",
    "g = Graph.Erdos_Renyi(197,m=477,directed=True, loops=True)\n",
    "# how many nodes & edges\n",
    "print(\"Number of nodes: \", len(g.vs))\n",
    "print(\"Number of edges: \", len(g.es))\n",
    "print(\"Number of self-loops: \", sum(Graph.is_loop(g)))"
   ]
  },
  {
   "cell_type": "markdown",
   "id": "d9e8c6c7-5149-42ca-98e8-a05b4c6866ac",
   "metadata": {},
   "source": [
    "# Module 2 - Comparing Simple Regulation to Negative Autoregulation\n",
    "For this Module, we'll be heading back to Cell Blender. Download the file 'NAR_compare_unequal.blend' from the class github, and open it in cell blender. If you're prompted to upgrade the blend file, do so. \n",
    "Next you'll want to run the simulation. Remember the steps for this are `CellBlender > Run Simulation > Export & Run.` Then click `Reload Visualization` followed by the play button to visualize the outcome\n",
    "\n",
    "### Task 2.1 Legolas, what do your elf eyes see? What does it look like when you run and visualize the simulation? [2 points]"
   ]
  },
  {
   "cell_type": "markdown",
   "id": "0551eb94-089f-4745-a273-6fe1bde32f60",
   "metadata": {},
   "source": [
    "### Response 2.1 \n",
    "(type here)"
   ]
  },
  {
   "cell_type": "markdown",
   "id": "4a47d6c2-2666-4bc9-8adc-72537d8203f3",
   "metadata": {},
   "source": [
    "### Task 2.2 Now you're going to add negative auto regulation to the model. [3 points] \n",
    "Go to `CellBlender > Molecules` and create the following molecules:\n",
    "1. Click the `+` button.\n",
    "1. Select a color (such as yellow).\n",
    "1. Name the molecule `Y2`.\n",
    "1. Select the molecule type as `Surface Molecule`.\n",
    "1. Add a diffusion constant of `1e-6`.\n",
    "1. Up the `scale factor` to 5 (click and type “5” or use the arrows).\n",
    "1. Add another molecule, name it `X2`, also a `Surface Molecole`, with a diffusion constant of `1e-6` and a `scale factor` of 1\n",
    "\n",
    "Next, go to `CellBlender > Molecule Placement` to add the following molecule release sites:\n",
    "1. Click the `+` button.\n",
    "1. Select or type in the molecule `X2`.\n",
    "1. Type in the name of the `Object/Region` \"Plane\".\n",
    "1. Set the `Quantity to Release` as 300.\n",
    "\n",
    "Finally, go to `CellBlender > Reactions` to create the following reactions:\n",
    "1. Click the `+` button.\n",
    "1. Under reactants, type `X2’` (the apostrophe is important).\n",
    "1. Under products, type `X2’ + Y2’`.\n",
    "1. Set the forward rate as `4e2`.\n",
    "1. Add another reaction with a reactant of `Y2'`, product `NULL`, and a forward rate of `4e2`\n",
    "1. Add another reactionf with a reactant of `Y2'+Y2'`, product of `NULL` and a forward rate of `4e2`\n",
    "\n",
    "### Task 2.3 Run and visualize the simulation. How does it look different from the initial simple regulation? [2 points]"
   ]
  },
  {
   "cell_type": "markdown",
   "id": "97afee28-4070-4c6f-809f-64d9b2b3107a",
   "metadata": {},
   "source": [
    "### Response 2.3\n",
    "(type here)"
   ]
  },
  {
   "cell_type": "markdown",
   "id": "0f5cda46-b384-4908-9e48-71cc475103f3",
   "metadata": {},
   "source": [
    "# Module 3 - Implementing the Feed-Forward Loop Motif\n",
    "\n",
    "Download the file 'incoher_ffl.blend' from the class github, and open it in cell blender. If you're prompted to upgrade the blend file, do so. Next you'll want to run the simulation. Remember the steps for this are CellBlender > Run Simulation > Export & Run. Then click Reload Visualization followed by the play button to visualize the outcome. \n",
    "\n",
    "### Task 3.1 What does this look like? how is it different? [2 points]"
   ]
  },
  {
   "cell_type": "markdown",
   "id": "c16197e0-8d2b-49a8-9526-d5a02591e5e9",
   "metadata": {},
   "source": [
    "### Response 3.1\n",
    "(type here)"
   ]
  },
  {
   "cell_type": "markdown",
   "id": "8aa0d8d8-8c6f-48bf-9fe8-c433ed6fd488",
   "metadata": {},
   "source": [
    "### Task 3.2 Why do you think the FFL is creating this behavior? [2 points]"
   ]
  },
  {
   "cell_type": "markdown",
   "id": "6fc6ebe6-13e8-4f59-a2fa-e5f0a07eaf16",
   "metadata": {},
   "source": [
    "### Reponse 3.2\n",
    "(type here)"
   ]
  },
  {
   "cell_type": "markdown",
   "id": "d1915d50-4fab-4e66-aa7a-f873e066e849",
   "metadata": {},
   "source": [
    "# Module 4 -  Implementing the Repressilator\n",
    "\n",
    "### Task 4.1 What is a repressilator? How does it relate to the motifs we've been dicussing in lecture? Include the source of your informaiton [3 points]"
   ]
  },
  {
   "cell_type": "markdown",
   "id": "34513b4e-801b-4687-8d24-f974209c2115",
   "metadata": {},
   "source": [
    "### Reponse 4.1\n",
    "(type here)"
   ]
  },
  {
   "cell_type": "markdown",
   "id": "8808c802-c700-4997-b307-dbab5dda4b82",
   "metadata": {},
   "source": [
    "Download the file 'repressilator.blend' from the class github, and open it in cell blender. If you're prompted to upgrade the blend file, do so. Next you'll want to run the simulation. Remember the steps for this are CellBlender > Run Simulation > Export & Run. Then click Reload Visualization followed by the play button to visualize the outcome\n",
    "\n",
    "### Task 4.2 What does the simulation look like? [2 points]"
   ]
  },
  {
   "cell_type": "markdown",
   "id": "39402702-cf53-4406-89b9-86cdff0df66b",
   "metadata": {},
   "source": [
    "### Response 4.2 \n",
    "(type here)"
   ]
  },
  {
   "cell_type": "markdown",
   "id": "aafcbe2c-be97-4f59-9593-95a910a81999",
   "metadata": {},
   "source": [
    "### Task 4.3 Go to the Reactions pane in Cellbelnder. From the reactions, describe what the simulation is trying to do. Note: I'm **NOT*** asking you to type out the reactions, or re-write them as the molecular interactions we're used to in class. I'm asking you to describe in lay-terms what is happening. If you were give instructions to someone else, what would they be? [5 points]"
   ]
  },
  {
   "cell_type": "markdown",
   "id": "5e696cc0-e65e-4d0c-8915-e8ab1cb7fa98",
   "metadata": {},
   "source": [
    "### Reponse 4.3\n",
    "(type here)"
   ]
  },
  {
   "cell_type": "markdown",
   "id": "4a77c5ee-11d6-4fd7-80c1-9a1d7a6a0882",
   "metadata": {},
   "source": [
    "# Module 5 - Homework\n",
    "\n",
    "### 5.1 - Network visualization. [5 points]\n",
    "In our lab, we caluclated the statistics for both a randomized and a biological network. But it would be nice if we had a visualization to go along with that. Look online to try and find a way to graph the networks defined in Module 1. Try at least 4 methods. If they don't work, explain why you think this is so. Are there module issues? Don't forget to include the source of your methods."
   ]
  },
  {
   "cell_type": "code",
   "execution_count": null,
   "id": "0f259f19-6839-467d-96d0-3ddbb87dc187",
   "metadata": {},
   "outputs": [],
   "source": [
    "'''\n",
    "Answer 5.1\n",
    "'''\n",
    "(type here)"
   ]
  },
  {
   "cell_type": "markdown",
   "id": "7042c89c-3348-4367-a847-c81adbe5dce2",
   "metadata": {},
   "source": [
    "### 5.2 - Initial Value Problem [5 points (a), 10 points (b)]\n",
    "Watch [this video](https://www.youtube.com/watch?v=H5tD_NtPDuU) on how to solve Initial Value Problems. Then solve the following:\\\n",
    "(a) Solve the initial value problem \n",
    "$$\\frac{dy}{dx} = 10-x, y(0) = -1$$\n",
    "(b) Use the concepts of initial value problem solving to finish the derivation from class, that the initial value problem \n",
    "$$\\frac{\\partial Y}{\\partial t} = \\beta \\cdot Y, y(0)=0$$\n",
    "leads to the solution\n",
    "$$ Y(t) = Y_{st}(1-e^{-\\alpha t})$$\n",
    "\n",
    "**Helpful hints**\n",
    "\n",
    "- On wolframalpha, you can find the anti-derivative by using the syntax Integral[3x, x]\n",
    "- In class, we learned that $Y_{st} = \\frac{\\beta}{\\alpha}$\n",
    "- The derivative of the expoentital function is given as $\\frac{d}{dx}e^{ax} = a\\cdot e^{ax}$ for all $a$\n",
    "- You *are not* expected to complete the derivation fully. You we granted points on your problem solving methods and the strength of your attempt. "
   ]
  },
  {
   "cell_type": "markdown",
   "id": "821a3ae0-bf5b-49f3-a03c-ccca004441ca",
   "metadata": {},
   "source": [
    "### 5.2 Answer\n",
    "(type or paste answer here)"
   ]
  },
  {
   "cell_type": "markdown",
   "id": "2cbde530-b744-42c0-b40f-338e3ac38e91",
   "metadata": {},
   "source": [
    "### 5.3 - Problem - Identifying more motifs [5 points]\n",
    "\n",
    "Using the network from Module 1, write a Python program that counts the number of :\n",
    "- mutual regulation (x → y, y → x), and\n",
    "- cascades (x → y, y → z)\n",
    "  \n",
    "It’s fine to use external packages for graph analysis. Be careful to explain and be consistent in the counting methods that you use for fan-outs and cascades. For example, fan-outs that originate from the same node (i.e. x → u, x → v, x → w) should be counted as a single fan-out but can also be individually counted as fan-outs of size ‘n’ if you choose. Similarly, for cascades i.e. x → u, u → v, v → w can either be counted as a single cascade or a cascade of size ‘n’ (4 in this example). Note: the network is presented in the file as two columns of numbers, the first is the index of the origin of the arrow, and the second is the target of the arrow. "
   ]
  },
  {
   "cell_type": "code",
   "execution_count": null,
   "id": "0ac5b347-d7fc-47ff-ba0b-ca6887dfab26",
   "metadata": {},
   "outputs": [],
   "source": [
    "'''\n",
    "5.3 Answer\n",
    "'''"
   ]
  }
 ],
 "metadata": {
  "kernelspec": {
   "display_name": "Python 3 (ipykernel)",
   "language": "python",
   "name": "python3"
  },
  "language_info": {
   "codemirror_mode": {
    "name": "ipython",
    "version": 3
   },
   "file_extension": ".py",
   "mimetype": "text/x-python",
   "name": "python",
   "nbconvert_exporter": "python",
   "pygments_lexer": "ipython3",
   "version": "3.12.1"
  }
 },
 "nbformat": 4,
 "nbformat_minor": 5
}
