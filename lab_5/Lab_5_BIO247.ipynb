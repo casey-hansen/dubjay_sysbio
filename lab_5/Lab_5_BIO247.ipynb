{
 "cells": [
  {
   "cell_type": "code",
   "execution_count": null,
   "id": "9f080980-4a35-4c95-b299-8e57a4228dee",
   "metadata": {},
   "outputs": [],
   "source": [
    "---\n",
    "title: \"Lab 5: Unpacking E. coli’s Genius Exploration Algorithm\"\n",
    "author: Your Name\n",
    "date: '6 March 2024'\n",
    "format: \n",
    "  html:\n",
    "    code-fold: true\n",
    "jupyter: python3\n",
    "---"
   ]
  },
  {
   "cell_type": "markdown",
   "id": "e8e90301-1502-428b-8fc9-4cff3470f724",
   "metadata": {},
   "source": [
    "# Module 1: Getting Started with BioNetGen and Modeling Ligand-Receptor Dynamics\n",
    "\n",
    "First thing you want to do is install BioNetGen using their [setup and installation page](https://bionetgen.readthedocs.io/en/latest/install.html)\n",
    "\n",
    "Next you're going to want to download the file `ligand_receptor.bngl` from the [class github](https://github.com/casey-hansen/dubjay_sysbio)\n",
    "\n",
    "Finally, run your simualtion. Realize there are packages missing. Call Dr. Hansen over. Install missing packages. Run again. "
   ]
  },
  {
   "cell_type": "markdown",
   "id": "85e84309-8a51-4597-b0a4-dc3d12fdda48",
   "metadata": {},
   "source": [
    "### Task 1.1 Read through the BioNetGen file - what reactions are you simulating? You can describe them generally, or write out the chemical reaction (2 points)"
   ]
  },
  {
   "cell_type": "markdown",
   "id": "003afa17-d5ff-48aa-9058-fff0f2e260f4",
   "metadata": {},
   "source": [
    "### Task 1.2 Describe the output of the simulation. Not what it means biologically, but what type of output do you get? (2 points)"
   ]
  },
  {
   "cell_type": "markdown",
   "id": "84d85f15-3cd2-4d8f-9e2b-57c93fe0095e",
   "metadata": {},
   "source": [
    "### Task 1.3 *Now* describe what the output means biologically. What does the simulation output tell you about the system? (2 points)"
   ]
  },
  {
   "cell_type": "markdown",
   "id": "8ef1e111-1a34-4124-95e8-9918fb9a8281",
   "metadata": {},
   "source": [
    "# Module 2: Adding Phosphorylation to our BioNetGen Model\n",
    "\n",
    "Now you're going to start adding to your model, including the phosphorylation chemotaxis that triggers the cascade to flagellar movement. First, you want to change your molecule types. Find where your molecule types are defined, and add\n",
    "\n",
    "\tL(t)             #ligand molecule\n",
    "\tT(l,Phos~U~P)    #receptor complex\n",
    "\tCheY(Phos~U~P)\n",
    "\tCheZ()\n",
    " The notation `Phos~U~P` indicates that a given molecule type can be either phosphorylated or unphosphorylated. **Note:**  Be careful with the use of spaces; don’t put spaces after the comma in the specification of the receptor.) You also want to change your observables to \n",
    "\n",
    "     begin observables\n",
    "    \tMolecules phosphorylated_CheY CheY(Phos~P)\n",
    "    \tMolecules phosphorylated_CheA T(Phos~P)\n",
    "    \tMolecules bound_ligand L(t!1).T(l!1)\n",
    "    end observables\n",
    "\n",
    "And and then we want to add the following reactions:\n",
    "\n",
    "    FreeTP: T(l,Phos~U) -> T(l,Phos~P) k_T_phos\n",
    "    BoundTP: L(t!1).T(l!1,Phos~U) -> L(t!1).T(l!1,Phos~P) k_T_phos*0.2\n",
    "    YP: T(Phos~P) + CheY(Phos~U) -> T(Phos~U) + CheY(Phos~P) k_Y_phos\n",
    "    YDep: CheZ() + CheY(Phos~P) -> CheZ() + CheY(Phos~U) k_Y_dephos\n",
    "\n",
    "As well as our simulation parameters\n",
    "\n",
    "    NaV 6.02e8   #Unit conversion to cellular concentration M/L -> #/um^3\n",
    "\tL0 0        #number of ligand molecules\n",
    "\tT0 7000       #number of receptor complexes\n",
    "\tCheY0 20000\n",
    "\tCheZ0 6000\n",
    "\n",
    "\tk_lr_bind 8.8e6/NaV   #ligand-receptor binding\n",
    "\tk_lr_dis 35           #ligand-receptor dissociation\n",
    "\tk_T_phos 15           #receptor complex autophosphorylation\n",
    "\tk_Y_phos 3.8e6/NaV    #receptor complex phosphorylates CheY\n",
    "\tk_Y_dephos 8.6e5/NaV  #Z dephosphorylates CheY\n",
    "\n",
    "AND ALSO initializing our species\n",
    "\n",
    "    L(t) L0\n",
    "\tT(l,Phos~U) T0*0.8\n",
    "\tT(l,Phos~P) T0*0.2\n",
    "\tCheY(Phos~U) CheY0*0.5\n",
    "\tCheY(Phos~P) CheY0*0.5\n",
    "\tCheZ() CheZ0\n",
    "\n",
    "Finally, we want to set our code to run for longer than the simulation in Module 1. \n",
    "\n",
    "    generate_network({overwrite=>1})\n",
    "    simulate({method=>\"ssa\", t_end=>3, n_steps=>100})\n",
    "\n",
    "Now run the simulation and see what happens!"
   ]
  },
  {
   "cell_type": "markdown",
   "id": "35259099-e2a5-47c6-bd04-f414fbe6281f",
   "metadata": {},
   "source": [
    "### Task 2.1 What changed in this version of the simulation? Why do you think that is? (2 points)"
   ]
  },
  {
   "cell_type": "markdown",
   "id": "9fc1366a-5827-41b4-82b1-94bdb57f9ee6",
   "metadata": {},
   "source": [
    "### Task 2.2 Now run your simulation by changing L0 to be equal to 5000 and then run it again with L0 to be equal to 1e5. What happens as you keep changing L0? What happens as L0 gets really large (e.g., 1e9)? What do you think is going on? (4 points)"
   ]
  },
  {
   "cell_type": "markdown",
   "id": "31e81486-cde5-48ab-87aa-d8086de53b93",
   "metadata": {},
   "source": [
    "# Module 3:  Modeling bacterial adaptation to changing attractant\n",
    "\n",
    "We're now going to add compartmentalization to our model, which will allow us to differentiate molecules that occur inside and outside of the cell. This will help us add the modification of *methylation*, which can help bacteria adapt to relative changes in attractant. \\\n",
    "Download the file `adaptation.bngl` from from the [class github](https://github.com/casey-hansen/dubjay_sysbio/tree/main/lab_6) and open it in VS Code"
   ]
  },
  {
   "cell_type": "markdown",
   "id": "6ee022e7-cd70-47aa-b29d-322cee31c1e6",
   "metadata": {},
   "source": [
    "### Task 3.1 What does this ouput look like? How does it compare to the output from Modules 1 and 2? (2 points)"
   ]
  },
  {
   "cell_type": "markdown",
   "id": "6ef3fcaa-cb12-4253-b500-622c86a28dc7",
   "metadata": {},
   "source": [
    "### Task 3.2 Try a variety of different initial concentrations of ligand (L0 = 1e4, 1e5, 1e6, 1e7, 1e8), paying attention to the concentration of phosphorylated CheY. How does the concentration change depending on initial ligand concentration? (4 points)"
   ]
  },
  {
   "cell_type": "markdown",
   "id": "15119e4e-1f34-46be-91a6-ccf154f99d86",
   "metadata": {},
   "source": [
    "# Module 4: Modeling bacterial adaptation to changing attractant\n",
    "\n",
    "Time to change it up! In real life, bacteria don’t suddenly drop into an environment with more attractants; instead, they explore a variable environment. We will also explore defining and using **functions** , a feature of BioNetGen that will allow us to specify reaction rules in which the reaction rates are dependent on the current state of the system.\n",
    "\n",
    "Download the files `addition.bngl` and `plotter_up.ipynb` from the [class github](https://github.com/casey-hansen/dubjay_sysbio/tree/main/lab_6). First, run the simulation in BioNetGen"
   ]
  },
  {
   "cell_type": "markdown",
   "id": "462880b1-eb20-42f1-bdf2-76505de96278",
   "metadata": {},
   "source": [
    "### Task 4.1 What happens to the concentration of phosphorylated CheY? In this model? (2 points) "
   ]
  },
  {
   "cell_type": "markdown",
   "id": "09d40024-ec3d-4644-aa8f-aead1631c494",
   "metadata": {},
   "source": [
    "### Task 4.2 Next, try the following few different values for k_add: 0.01, 0.03, 0.05, 0.1, 0.3, 0.5. What do these changing k_add values represent in the simulation? How does the system respond to the different values? (4 points) "
   ]
  },
  {
   "cell_type": "markdown",
   "id": "3be2c722-75d8-451d-85fa-dbd92d53e2cb",
   "metadata": {},
   "source": [
    "### Task 4.3 Finally, work through the iPy Notebook to visualize the results of your simulation. What is the outcome? (1 point)\n",
    "**Hint** You will have to make some changes to the code so that it has the correct references. "
   ]
  },
  {
   "cell_type": "markdown",
   "id": "884eaf58-66c1-49f2-b433-7f1a47629639",
   "metadata": {},
   "source": [
    "# Module 5: Homework\n",
    "For each problem I am looking for the following things:\n",
    "\n",
    "* The problem set up. Where did you start?\n",
    "* All steps used to solve your problem. I cannot give partial credit if there is no work shown\n",
    "* Comments in any code used to arrive at your solutions\n",
    "* Citations for any information you had to look up to solve your problem. Citations do *not* have to be formal. A link to the source or a comment quoting your ChatGPT/LLM prompt is sufficient\n",
    "* Answers to all parts of the question (some ask you to find a value and then comment on the value)"
   ]
  },
  {
   "cell_type": "markdown",
   "id": "91a3cef4-19e1-4731-bc41-9c86a169d7dc",
   "metadata": {},
   "source": [
    "### Task 5.1 PBOC2 Problem 6.10 - The die problem revisited (10 points)\n",
    "(a) (6 points) Work out the probability distribution for a dishonest die that has average values \n",
    "1. ⟨i⟩ = 2.5,\n",
    "2. ⟨i⟩ = 3.5, and\n",
    "3. ⟨i⟩ = 4.5\\\n",
    "   \n",
    "\n",
    "(c) (4 points) Make a plot (a bar plot) of the probability distribution for all three of these cases.\n",
    "**Hint**: This bar plot will need to show the average die value \\<i>, the face values [1,6], and the probability"
   ]
  },
  {
   "cell_type": "code",
   "execution_count": null,
   "id": "ccc17918",
   "metadata": {},
   "outputs": [],
   "source": [
    "'''\n",
    "Task 5.2 Code\n",
    "'''"
   ]
  },
  {
   "cell_type": "markdown",
   "id": "5e23d7ca-0984-4b06-b43a-095fb398395e",
   "metadata": {},
   "source": [
    "### Task 5.2 Learning more about Ligand-Receptor Dynamics (10 points)\n",
    "\n",
    "Find an academic paper on a ligand-receptor interaction in *prokaryotes* (i.e. humans or animals), and answer the following questions:\n",
    "1. What is the chemical reaction of this interaction?\n",
    "2. What role does this interaction play in the species?\n",
    "3. What is known and unknown about the system? In other words, what information does this paper give you that would *help* you build a BNG model on the reactions, and what information do you still need?"
   ]
  },
  {
   "cell_type": "code",
   "execution_count": null,
   "id": "bfc3beba-3ead-4139-99c1-801f997af684",
   "metadata": {},
   "outputs": [],
   "source": []
  }
 ],
 "metadata": {
  "kernelspec": {
   "display_name": "Python 3",
   "language": "python",
   "name": "python3"
  },
  "language_info": {
   "codemirror_mode": {
    "name": "ipython",
    "version": 3
   },
   "file_extension": ".py",
   "mimetype": "text/x-python",
   "name": "python",
   "nbconvert_exporter": "python",
   "pygments_lexer": "ipython3",
   "version": "3.12.1"
  }
 },
 "nbformat": 4,
 "nbformat_minor": 5
}
