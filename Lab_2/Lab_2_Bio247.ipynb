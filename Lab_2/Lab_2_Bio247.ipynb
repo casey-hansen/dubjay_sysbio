{
 "cells": [
  {
   "cell_type": "raw",
   "id": "833d0143-60eb-4a0b-be12-5348837cc871",
   "metadata": {},
   "source": [
    "---\n",
    "title: \"Lab 2: Dictionaries, Dataframes, Loops, and Functions\"\n",
    "author: Your Name\n",
    "date: '7 Februaury 2024'\n",
    "format: \n",
    "  html:\n",
    "    code-fold: true\n",
    "jupyter: python3\n",
    "---"
   ]
  },
  {
   "cell_type": "code",
   "execution_count": 1,
   "id": "5cf524d1-35a8-4620-817d-d8d18939b635",
   "metadata": {},
   "outputs": [],
   "source": [
    "'''\n",
    "Preamble\n",
    "'''\n",
    "\n",
    "# Time to start practicing your good habits! \n",
    "# Don't forget to execute this cell before doing anything with your code below\n",
    "\n",
    "import pandas as pd\n",
    "import random"
   ]
  },
  {
   "cell_type": "markdown",
   "id": "3d17ee32-4911-4f69-903c-b3346eb52aee",
   "metadata": {},
   "source": [
    "# Introduction\n",
    "\n",
    "Welcome to Lab 2! This interactive document will walk you through an active learning approach to several important Python concepts, and also give you more practice working in Python and applying the theories presented in lecture. This document will also serve as your lab report - as you work through the file, there are coding cells designated for your own code. \n",
    "\n",
    "### To submit your lab report:\n",
    "\n",
    "* rename this file as LastName_Lab_2.ipynb,\n",
    "* render your file using quarto\n",
    "* submit the rendered file on Sakai"
   ]
  },
  {
   "cell_type": "markdown",
   "id": "0845d46d-d121-41e6-9751-a45126f6a364",
   "metadata": {},
   "source": [
    "# Module 1: Dictionaries\n",
    "\n",
    "Dictionaries are a special kind of list in python. They have all of the same features of a list, with one additional benefit - in a list, we generally reference items by their position, or index. In a dictionary, yo uhave the added feature of a *key*, which gives a name to each item in the dictionary. In this way, it acts like you would think of a traditional dictionary, a word (key) with a defintion (value). You define a dictionary in the following way:\n",
    "\n",
    "    d = {\n",
    "            <key>: <value>,\n",
    "            <key>: <value>,\n",
    "            .\n",
    "            .\n",
    "            .\n",
    "            <key>: <value>,\n",
    "    }\n",
    "\n",
    "And you reference the values in a dictionary much like you would in a list (using '[]'), but in a dictionary, instead of a numerical index, you call the value by its key.\n",
    "\n",
    "Work within the following coding block to explore dictionaries. For this lab, you will\n",
    "\n",
    "* Add comments to the coding block (2 pts)\n",
    "* Perform the tasks described in the existing comments (1 pt each)"
   ]
  },
  {
   "cell_type": "code",
   "execution_count": 11,
   "id": "50a6ddf7-b935-4ecb-812c-ac56ec07a539",
   "metadata": {},
   "outputs": [],
   "source": [
    "''' \n",
    "Dictionaries\n",
    "'''\n",
    "\n",
    "e_coli = {\n",
    "    'water': 2E10,\n",
    "    'mem_prot': 1E6,\n",
    "    'ion': 6E7,\n",
    "    'lipid': 5E7,\n",
    "    'protein': 2E6,\n",
    "    'mrna': 2E3,\n",
    "    'ribosome': 2E4,\n",
    "    'dna': 5E6\n",
    "}\n",
    "\n",
    "# Task 1.1 - calcuate the ratio of ribosomes to mRNA, and output the result\n",
    "\n",
    "e_coli['volume'] = 1E-15\n",
    "\n",
    "# Task 1.2 - create a variable that stores the volume of a single molecule of water (you'll have to look it up!)\n",
    "\n",
    "# Task 1.3 - find out what percentage of an E. Coli cell is water, by volume"
   ]
  },
  {
   "cell_type": "markdown",
   "id": "9a9b970c-2542-4ba7-9d53-7e913f9557e9",
   "metadata": {},
   "source": [
    "# Module 2 DataFrames\n",
    "\n",
    "The easiest way to think of DataFrames is 'Lists on Steroids' - DataFrames are the Python equivalent of spreadsheets, which in the data world are considered a 2-D data container. The pandas module was developed in 2008 so that Python could compete with the more powerful `R` (not that I'm biased) and work with large imported datasets. We will ignoring data import for now, and focus solely on the mechanics of DataFrames.\n",
    "\n",
    "You'll notice in the coding block below that a dataframe looks a *lot* like a dictionary - there are keys and values. The main differences are:\n",
    "\n",
    "1. The value for each key must be a list\n",
    "2. There are a greater variety of functions and properties specific to dataframes"
   ]
  },
  {
   "cell_type": "code",
   "execution_count": 3,
   "id": "871ff8e4-b1da-4b3c-8742-33869ae528d1",
   "metadata": {},
   "outputs": [
    {
     "name": "stdout",
     "output_type": "stream",
     "text": [
      "   heartrate  duration\n",
      "0         70        60\n",
      "1        120        60\n",
      "2         90        30\n",
      "3        100        45\n",
      "4        105        70\n",
      "heartrate    120\n",
      "duration      60\n",
      "Name: 1, dtype: int64\n",
      "0     70\n",
      "1    120\n",
      "2     90\n",
      "3    100\n",
      "4    105\n",
      "Name: heartrate, dtype: int64\n",
      "100\n"
     ]
    }
   ],
   "source": [
    "'''\n",
    "DataFrames\n",
    "'''\n",
    "\n",
    "# Import pandas dataframe\n",
    "import pandas as pd\n",
    "\n",
    "# Create data frame for exercise heartrates\n",
    "hr_data = {\n",
    "    'heartrate': [70, 120, 90, 100, 105],\n",
    "    'duration': [60, 60, 30, 45,70]\n",
    "}\n",
    "\n",
    "# Load data into DataFrame object\n",
    "hr_df = pd.DataFrame(hr_data)\n",
    "print(hr_df)\n",
    "\n",
    "# Reference a DataFrame row\n",
    "print(hr_df.loc[1])\n",
    "\n",
    "# Reference a DataFrame column\n",
    "print(hr_df['heartrate'])\n",
    "\n",
    "# Reference Row 4, column 1 (remember the rules for indexes!)\n",
    "print(hr_df.iloc[3,0])"
   ]
  },
  {
   "cell_type": "markdown",
   "id": "53079972-fee0-4ec1-a176-748255500d3c",
   "metadata": {},
   "source": [
    "Now it's time for you to try! Below, I have created a sample dataframe of the concenration of CheY-P over time (3 minutes). Find the following information:\n",
    "\n",
    "1. The maximum concentration of CheY-P (1 pt)\n",
    "2. The time-step at which CheY-P is at a maximum (hint: you will want to use the python `index()` function) (1 pt)\n",
    "3. Based on Monday's lecture, what is the approximate probabilty (or bias) of E. Coli being in the CCW configuration, based on the Che-Y? (1 pt)\n",
    "\n",
    "Don't forget to comment your code! (2 pts)"
   ]
  },
  {
   "cell_type": "code",
   "execution_count": 4,
   "id": "90704a5e-99fa-496f-9820-0cc95afbdb63",
   "metadata": {},
   "outputs": [
    {
     "name": "stdout",
     "output_type": "stream",
     "text": [
      "     Time (s)  Concentration (uM)\n",
      "0           1            2.570304\n",
      "1           2            6.227533\n",
      "2           3            5.042491\n",
      "3           4            2.796762\n",
      "4           5            7.210369\n",
      "..        ...                 ...\n",
      "175       176            2.575867\n",
      "176       177            5.799804\n",
      "177       178            7.467018\n",
      "178       179            7.379387\n",
      "179       180            0.327175\n",
      "\n",
      "[180 rows x 2 columns]\n"
     ]
    }
   ],
   "source": [
    "'''\n",
    "Che-Y Study\n",
    "'''\n",
    "\n",
    "# Time Step\n",
    "time = list(range(1,181))\n",
    "# Randomized Concentration\n",
    "conc = []\n",
    "# Note: don't write for-loops like this\n",
    "for i in range(0,len(time)): conc.append(random.uniform(0.1, 8.0))\n",
    "\n",
    "# Assemble data\n",
    "cheyp_data = {\n",
    "    'Time (s)': time,\n",
    "    'Concentration (uM)': conc\n",
    "}\n",
    "cheyp_df = pd.DataFrame(cheyp_data)\n",
    "print(cheyp_df)"
   ]
  },
  {
   "cell_type": "markdown",
   "id": "445a0d29-575f-4a08-a2e3-85a21842f8ba",
   "metadata": {},
   "source": [
    "# Module 3 - Loops\n",
    "\n",
    "Enter the humble loop. The powerhouse of programming. The secret weapon of serial work. Loops can be your greatest friend, or your worst enemy (sometimes both!).  \n",
    "\n",
    "### If/else/elif\n",
    "Our first loop is...technically not a loop. The `if` statement if a very important conditional function, used when you have multiple categories of outcome - that is, what you do next is determined by some value that has multiple possibilities. The simplest version is the `if/else` conditional:\n",
    "\n",
    "    if <condition>:\n",
    "        <action>\n",
    "    else:\n",
    "        <alternative action>\n",
    "\n",
    "This is use when there are only 2 possible outcomes. However, it's possible that you may have *multiple* possible outcomes, in which case you would then add the `elif` statement. It's very important than when creating `if/else/elif` that you know what all possible outcomes are, otherwise you'll end up with errors in your code (think back to the assumptions lecture).\n",
    "\n",
    "    if <condition1>:\n",
    "        <action1>\n",
    "    elif<condition2:\n",
    "        <action2>\n",
    "        .\n",
    "        .\n",
    "        .\n",
    "    elif<conditionN>:\n",
    "        <actionN>\n",
    "    else:\n",
    "        <alternative action>\n",
    "\n",
    "Let's show this by creating a game. You have 2 players, A and B. They both roll a 12-sided die, and whoever has the highest roll wins. If they roll the same number, it's a tie. Once you've played the game a few times (every time you execute the code cell, it's a new \"roll\"), create your own if statement - determine if you're eating in the Commons or at GnTs, based on the menu. (2 points)\n",
    "\n",
    "(Hint: you'll probably want to make use of the `in` operator)\n",
    "\n",
    "Don't forget your comments! (2 points)"
   ]
  },
  {
   "cell_type": "code",
   "execution_count": 5,
   "id": "5b60abb6-fd5f-4314-aa96-8573b00806af",
   "metadata": {},
   "outputs": [
    {
     "name": "stdout",
     "output_type": "stream",
     "text": [
      "B won!\n"
     ]
    }
   ],
   "source": [
    "'''\n",
    "if/else/elif\n",
    "'''\n",
    "# Generate the roll\n",
    "a = random.randint(1,12)\n",
    "b = random.randint(1,12)\n",
    "\n",
    "# Determine who won\n",
    "if a > b:\n",
    "    print(\"A won!\")\n",
    "elif a < b: \n",
    "    print(\"B won!\")\n",
    "else:\n",
    "    print(\"It's a tie!\")"
   ]
  },
  {
   "cell_type": "code",
   "execution_count": 6,
   "id": "5a2b459c-f08b-435e-8d0d-ec39db83d631",
   "metadata": {},
   "outputs": [],
   "source": [
    "'''\n",
    "Task 3.1\n",
    "'''\n",
    "\n",
    "# Wednesday Menu\n",
    "main = ['pork chop','potatoes','broccoli','carrots','pasta','chicken']\n",
    "pizza = ['white','pierogi','cheese','pepperoni']\n",
    "gf_veg = ['ratatouile','hash','cauliflower']\n",
    "grill = ['hamburger','sloppy joe','fries']\n",
    "gnts_open = True\n",
    "\n"
   ]
  },
  {
   "cell_type": "markdown",
   "id": "a52e0b17-ec8a-4bbb-bf30-0bc7daef3162",
   "metadata": {},
   "source": [
    "### For Loops\n",
    "\n",
    "`For` loops are useful when you know you want to repeat an action multiple times over a sequence, such as a list, a DataFrame, a tuple (we don't talk about tuples), or even a dataframe. For loops are best when you have a *fixed number* of times you want to complete and action (you'll see why this distinction is important in a moment). \n",
    "\n",
    "A good example of this is data normalization. In science, we sometimes want to measure values as they relate to the *maximum* value - so we adjust our measured data for analysis purpsoses:"
   ]
  },
  {
   "cell_type": "code",
   "execution_count": 7,
   "id": "b9df747d-0f2a-4e7a-828d-1679b864217d",
   "metadata": {},
   "outputs": [],
   "source": [
    "'''\n",
    "For Loop\n",
    "'''\n",
    "# Generate random data\n",
    "data = []\n",
    "# Create 50 data points between 1.0 and 25.0\n",
    "for i in range(0,50): data.append(random.uniform(1.0, 25.0))\n",
    "\n",
    "# Determine max value\n",
    "max_val = max(data)\n",
    "# Normalize all data\n",
    "for x in range(0,len(data)):\n",
    "    data[x] = data[x]/max_val\n",
    "    "
   ]
  },
  {
   "cell_type": "markdown",
   "id": "4de22fd0-47a9-4fb9-8267-85bd4e322dd2",
   "metadata": {},
   "source": [
    "Let's go back to our dataframe of our CheY-P data. Let's combine `if` statements and `for` loops. Loop through the data over time  (2 points), an determine at each point if E. Coli is in the CW or CCW configuration (2 points). Don't forget your comments! (2 points)"
   ]
  },
  {
   "cell_type": "code",
   "execution_count": 8,
   "id": "06e44c25-f98c-44cc-8d6c-941b1a2451c7",
   "metadata": {},
   "outputs": [
    {
     "data": {
      "text/plain": [
       "'\\nTask 3.2\\n'"
      ]
     },
     "execution_count": 8,
     "metadata": {},
     "output_type": "execute_result"
    }
   ],
   "source": [
    "'''\n",
    "Task 3.2\n",
    "'''\n",
    "\n"
   ]
  },
  {
   "cell_type": "markdown",
   "id": "d9ca6961-651a-49d9-b807-143d3f55e21f",
   "metadata": {},
   "source": [
    "### While Loops\n",
    "\n",
    "`While` loops are useful when you want an action to be performed *while* (get it?) a condition is met. Most biologigal reactions act like `while` loops. *While* there is sufficient energy, need, and supplies, the action will be carried out. Once one of these 3 things drops below a certain threshold (often determined by concentration), the process will stop or slow down. "
   ]
  },
  {
   "cell_type": "code",
   "execution_count": 9,
   "id": "147b359c-fcbe-43ae-9dbb-131e73cc4166",
   "metadata": {},
   "outputs": [
    {
     "name": "stdout",
     "output_type": "stream",
     "text": [
      "71\n",
      "67\n",
      "63\n",
      "59\n",
      "55\n",
      "51\n",
      "47\n",
      "43\n",
      "39\n",
      "35\n",
      "31\n",
      "27\n",
      "23\n",
      "19\n",
      "15\n",
      "11\n",
      "7\n",
      "3\n"
     ]
    }
   ],
   "source": [
    "# Define starting concentration of our chemical (uM)\n",
    "st_conc = 75\n",
    "\n",
    "# Carry out biological reaction that uses 4 uM of the chemical each time\n",
    "# stop when there is insufficient supply\n",
    "\n",
    "while st_conc > 4:\n",
    "    st_conc = st_conc - 4\n",
    "    print(st_conc)"
   ]
  },
  {
   "cell_type": "markdown",
   "id": "0ee47f3b-8a32-4a28-9c0b-b645719c55c1",
   "metadata": {},
   "source": [
    "# Module 4 - Functions\n",
    "\n",
    "Sometimes in Python (as in life), we find ourselves repeating the same task over and over again. It sure would be useful if we could have Python do the work, instead of typing out the same code over and over again. Luckily, we can! Python allows us to create `functions` which allow us to save specific lines of code to use over and over again easily. \n",
    "\n",
    "Functions take the following format:\n",
    "\n",
    "    def <func_name>(<arguments>):\n",
    "        <OPERATIONS>\n",
    "        .\n",
    "        .\n",
    "        .\n",
    "        <Output>\n",
    "\n",
    "As an example, it's a common problem in introductory coding courses to write code that determines if a word is a palindrome. The first step of this is to take the word of interest and to write it backwords. This is easy if I know what the specific word is, but to do this manually for any word? That would take forever. It would be much easier if I could have *one* piece of code that performs this task. I create the function `palindrome` below to do just that. I also want to add in the option for whether or not I want to print out the reversed word. \n",
    "\n",
    "After you believe that my function works, try writing your own! (2 pts)\n"
   ]
  },
  {
   "cell_type": "code",
   "execution_count": 10,
   "id": "b579e53c-4c14-4a26-b5e0-31f041898aa9",
   "metadata": {},
   "outputs": [
    {
     "ename": "SyntaxError",
     "evalue": "invalid syntax. Perhaps you forgot a comma? (1257501191.py, line 11)",
     "output_type": "error",
     "traceback": [
      "\u001b[0;36m  Cell \u001b[0;32mIn[10], line 11\u001b[0;36m\u001b[0m\n\u001b[0;31m    print(congraulations, you have a palindrome!)\u001b[0m\n\u001b[0m                          ^\u001b[0m\n\u001b[0;31mSyntaxError\u001b[0m\u001b[0;31m:\u001b[0m invalid syntax. Perhaps you forgot a comma?\n"
     ]
    }
   ],
   "source": [
    "'''\n",
    "Functions\n",
    "'''\n",
    "\n",
    "# Function to reverse a string\n",
    "def palindrome(word):\n",
    "    # Use a slicing trick to reverse the word\n",
    "    rev_word = word[::-1]\n",
    "    #Check to see if it's a palindrome\n",
    "    if rev_word == word:\n",
    "        print(congraulations, you have a palindrome!)\n",
    "    else:\n",
    "        print(\"Better Luck Next Time!\")\n",
    "\n",
    "# Testing the function:\n",
    "print(palindrome('tacocat')\n",
    "\n",
    "# Task 4.1 Create a funciton that calculates the average value of a list\n",
    "# Make sure it ONLY calculates the average if the list contains numbers\n",
    "\n",
    "\n",
    "# Test list\n",
    "test = [3,1,4,1,5,9,2,6,5]\n"
   ]
  },
  {
   "cell_type": "markdown",
   "id": "83b25769-50cc-41e4-9d53-9ef578af5f9c",
   "metadata": {},
   "source": [
    "# DocString\n",
    "\n",
    "That's great that now you can write functions - but what if you hid your file away, and take your code out years later - how are you going to remember how you function works, even with exceptional commenting? What if you want someone else to use your function, how are they going to know how to use it? That's where Docstring comes in . DocString is a specific type of commenting that's used to create documentation for user-created functions. It has a whole host of properties for creating help menus and professional documentation, but for now it's enough to know that it's a more efficient way of storing information about your function. Let's recreate the above function, only now, let's add the DocString. Look through the below example, and then go back up to your function for task 4.1 and add the DocString (2 point)\n",
    "\n",
    "I'm also going to change the function a bit. Instead having the function print the outcome, I'm going to have the function **return** a value. This way, I can use the output from the function as a *value* in another calculation or piece of code (this is more useful when the function is doing calculations of its own)"
   ]
  },
  {
   "cell_type": "code",
   "execution_count": null,
   "id": "db937162-c0b5-4278-ae67-c9f759e389ae",
   "metadata": {},
   "outputs": [],
   "source": [
    "def palindrome(word, to_print = 'N'):\n",
    "    \"\"\"\n",
    "    Parameters\n",
    "    ----------\n",
    "    word : str\n",
    "        Word or phrase to be reversed\n",
    "    \"\"\"\n",
    "    # Use a slicing trick to reverse the word\n",
    "    rev_word = word[::-1]\n",
    "    #Check to see if it's a palindrome\n",
    "    if rev_word == word:\n",
    "        return(True)\n",
    "    else:\n",
    "        return(False)"
   ]
  },
  {
   "cell_type": "markdown",
   "id": "85938ef4-3be7-45dd-be4d-9912795efcee",
   "metadata": {},
   "source": [
    "# Module 5 - Homework\n",
    "\n",
    "Complete the following problems, based on problems from Physical Biology of the Cell (PBOC) 2nd edition."
   ]
  },
  {
   "cell_type": "markdown",
   "id": "ea684cd2-4927-41f9-9868-7f3abc38f39b",
   "metadata": {},
   "source": [
    "### Problem 1 (PBOC 2.1)\n",
    "A scientist tried to estimate the mass of an E. coli cells by assuming the cell had the same density as water. However, it turns out that the density of the macromolecules of the cell is 1.3 times that of water. In Task 1.3, you calculated what percentage of the E. Coli cell is water, by volume. Assume that the remaining percentage is macromolecular. \n",
    "What is the percentage error made by treating the macromolecular density as the same as that of water?\n",
    "(Hint: density is calculated as mass/volume)\n",
    "(5 points)"
   ]
  },
  {
   "cell_type": "markdown",
   "id": "e8563da0",
   "metadata": {},
   "source": [
    "(type answer here)"
   ]
  },
  {
   "cell_type": "markdown",
   "id": "34333e1c-a2ff-4ff0-8ac8-21cb7b4ea337",
   "metadata": {},
   "source": [
    "### Problem 2 (PBOC 2.8)\n",
    "\n",
    "Find the approximate volume of an HIV virion. Assume that it has the same density of E.coli - calculate its mass. Be sure to include the source where you found the volume. \n",
    "(5 points)"
   ]
  },
  {
   "cell_type": "markdown",
   "id": "c2cc3ae8",
   "metadata": {},
   "source": [
    "(type answer here)"
   ]
  },
  {
   "cell_type": "markdown",
   "id": "953f4ce5-7690-4d22-9003-eefa846b9986",
   "metadata": {},
   "source": [
    "### Problem 3 (PBOC 3.5(b))\n",
    "Recall that we completed part (a) in class. You will need the results from that part of the problem to solve this problem. \n",
    "\n",
    "With a 3000 s division time for E. coli, about 25% of its protein is ribosomal. Note that the microbe *Salmonella typhimurium* is very similar to E. coli. Using these numbers and your results from above, what fraction of the protein would be ribosomal for the highest growth rate studied in the paper? *The highest growth rate studied was 2.5 gen/h, meaning that the population doubles 2.5 times per hour* (5 points)\n",
    "\n",
    "How does this compare to their measured ratio of ribosomes to soluble protein, R/P at these growth rates? *The papers relative ribosomal concentration was measured at 0.035-0.09* (2 points)\n",
    "\n",
    "How does the predicted R/P at high growth rates change if you now assume that dP/dt is proportional to R as they did in the paper? (3 points)"
   ]
  },
  {
   "cell_type": "markdown",
   "id": "b29cae97",
   "metadata": {},
   "source": [
    "(type answer here)"
   ]
  }
 ],
 "metadata": {
  "kernelspec": {
   "display_name": "Python 3",
   "language": "python",
   "name": "python3"
  },
  "language_info": {
   "codemirror_mode": {
    "name": "ipython",
    "version": 3
   },
   "file_extension": ".py",
   "mimetype": "text/x-python",
   "name": "python",
   "nbconvert_exporter": "python",
   "pygments_lexer": "ipython3",
   "version": "3.12.1"
  }
 },
 "nbformat": 4,
 "nbformat_minor": 5
}
