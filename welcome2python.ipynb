{
 "cells": [
  {
   "cell_type": "raw",
   "id": "aeb98458-5ae7-4e3b-9712-3f50d264a774",
   "metadata": {},
   "source": [
    "---\n",
    "title: \"Welcome to Python: The Basics\"\n",
    "format: \n",
    "  html:\n",
    "    code-fold: true\n",
    "jupyter: python3\n",
    "---"
   ]
  },
  {
   "cell_type": "markdown",
   "id": "f5c8fa8d-616c-40e3-a6b6-a3bff418a9f5",
   "metadata": {},
   "source": [
    "## Getting Started\n",
    "\n",
    "The first thing you want to be able to do in python is *store* information. You do that by assigning your value to a well-defined variable. These variables are names that we use to reference the stored information at a later date. Variable names *can* include letters, numbers, and some special characters - we'll talk a bit later about best naming practice for variables"
   ]
  },
  {
   "cell_type": "code",
   "execution_count": null,
   "id": "ad8ffec4-5886-455b-b543-217605360b7c",
   "metadata": {},
   "outputs": [],
   "source": [
    "# Cell 1\n",
    "\n",
    "# Traditionally, we think of variables as representing numbers:\n",
    "# this is called a 'float', what we usually think of as a decimal\n",
    "num = 3.14\n",
    "# we can also store integers\n",
    "num2 = 5"
   ]
  },
  {
   "cell_type": "code",
   "execution_count": null,
   "id": "a0705ba9-12e0-489e-8921-445ba769cda8",
   "metadata": {},
   "outputs": [],
   "source": [
    "# Cell 2\n",
    "\n",
    "# We can also store different types of values in our variables, for example, we can store text data (strings)\n",
    "var = \"I am a variable\"\n",
    "\n",
    "# or lists of data, if we want to store multiple things in one place\n",
    "# Note that the word 'True' is in bold - that's because the words 'True' and 'False' (with a capital first letter)\n",
    "# are treated as special values in code, known as \"Boolean Values\". They represent what is called a \"truth value\"\n",
    "# More on that later...\n",
    "list1 = [True, 2, \"three\"]\n",
    "\n",
    "# We're skipping tuples (at least for now)\n"
   ]
  },
  {
   "cell_type": "markdown",
   "id": "8c7356cf-1a3e-4eeb-aeaa-5937f47f7b98",
   "metadata": {},
   "source": [
    "Both strings and lists (and tuples) are of the \"Sequence Type\" data type. And this means that we can easily reference specific locations within each variable. This practice of reference information by its location is called \"indexing,\" the location address is called an \"index\" represented by a number. \n",
    "\n",
    "And important note is that in Python, indexing begins at 0. So to reference the first item of Sequence Type data, you use the number 0, to reference the second item, you use the number 1, and so on (yes, it takes some getting used to). To call the information at a given index, you use brackets, []"
   ]
  },
  {
   "cell_type": "code",
   "execution_count": null,
   "id": "d37e3925-5b0c-4491-8dc4-051f4500e66e",
   "metadata": {},
   "outputs": [],
   "source": [
    "# Cell 3\n",
    "\n",
    "# We want to find the fifth item in our string. To do this, we need to make use of the 'print' function, so the outcome\n",
    "# of our code is printed (get it?)\n",
    "print(var[5])\n"
   ]
  },
  {
   "cell_type": "markdown",
   "id": "9955864a-da90-432b-8f90-88b5e2feea95",
   "metadata": {},
   "source": [
    "## Lists\n",
    "\n",
    "Lists are a very powerful tool in python - you can store data, combine data, collect data and even manipulate data (but not in a bad way, in a *useful* way)"
   ]
  },
  {
   "cell_type": "code",
   "execution_count": null,
   "id": "00ca0c68-dc82-4547-806e-842ef838311e",
   "metadata": {},
   "outputs": [],
   "source": [
    "# Cell 4\n",
    "\n",
    "# Say we want a list of numbers between two values - we can use the range() function, and convert its output to a list using the \n",
    "# list() function - this is why naming variables is very important, you never want to accidentally name them after a function\n",
    "list1 = list(range(15,27))\n",
    "print(list1)\n",
    "\n",
    "# If we want to know how long a list is, we use the len() function\n",
    "length1 = len(list1)\n",
    "print(length1)\n",
    "\n",
    "# This is useful if we're trying to find the end of a list. There are two ways to access the last item of a list (or a string)\n",
    "# First by using the length:\n",
    "# You have to be careful - remember that indicies are one digit LESS than we would expect\n",
    "end1 = list1[len(list1)-1]\n",
    "print(end1)\n",
    "# Second by using NEGATIVE indicies:\n",
    "end2 = list1[-1]\n",
    "print(end2)\n",
    "# Is there a difference between the two? let's find out using a Boolean operator, ==\n",
    "# The following line is how you would ask Python \"is end1 equal to end2?\"\n",
    "print(end1 == end2)\n"
   ]
  },
  {
   "cell_type": "code",
   "execution_count": null,
   "id": "6462eceb-f4b0-41f5-a5a0-d6e2faa68dc4",
   "metadata": {},
   "outputs": [],
   "source": [
    "# Cell 5\n",
    "\n",
    "# You can even create lists within lists:\n",
    "list2 = [['red','orange','yellow'],[1, 1, 3],[False, True, True]]\n",
    "# To index a 'nested' list, you have to use multiple indices, identifying first the list you want, and then the item in the list\n",
    "# for example, to return the number 3, you would call for\n",
    "print(list2[1][2])"
   ]
  },
  {
   "cell_type": "markdown",
   "id": "d6e04f38-cd4c-4fe2-8200-1c3cfea5694f",
   "metadata": {},
   "source": [
    "## If Statements\n",
    "\n",
    "Python is what is called a \"white space oriented language\" that means that we use white space (spaces, indents, new lines) to organize our code, instead of the more explicit {}/()/[] of object-oriented lanaguages like Java, C++, and R. Some people **love** this feature of Python, as it makes it easier to keep track of the organization of your code. \n",
    "\n",
    "In Python, the major white space operator in python is the indent. Often Python creates this automatically, but it is the equivalent of a *tab*, or 4 spaces. The if statement is a nice easy introdcution into getting familiar with whitespace."
   ]
  },
  {
   "cell_type": "code",
   "execution_count": null,
   "id": "f7aeba39-2ede-4154-8949-98162151edb0",
   "metadata": {},
   "outputs": [],
   "source": [
    "# Cell 6\n",
    "\n",
    "# First, let's practice generating a random number between 0 and 1 - we're going to need to import the 'random' package\n",
    "# You will NOT need to install this package at the terminal\n",
    "import random\n",
    "rand_num = random.random()\n",
    "\n",
    "# Next, let's play a game if our number is greater than 0.5 - we win!\n",
    "if rand_num > 0.5:\n",
    "    print(\"Congratulations - you won!\")\n",
    "else:\n",
    "    print(\"Sorry, better luck next time!\")"
   ]
  },
  {
   "cell_type": "code",
   "execution_count": null,
   "id": "34d58b7d-e310-46e6-b3d2-75d54af84f07",
   "metadata": {},
   "outputs": [],
   "source": []
  }
 ],
 "metadata": {
  "kernelspec": {
   "display_name": "Python 3 (ipykernel)",
   "language": "python",
   "name": "python3"
  },
  "language_info": {
   "codemirror_mode": {
    "name": "ipython",
    "version": 3
   },
   "file_extension": ".py",
   "mimetype": "text/x-python",
   "name": "python",
   "nbconvert_exporter": "python",
   "pygments_lexer": "ipython3",
   "version": "3.12.1"
  }
 },
 "nbformat": 4,
 "nbformat_minor": 5
}
