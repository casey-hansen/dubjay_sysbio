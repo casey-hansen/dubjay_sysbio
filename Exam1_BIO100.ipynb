{
 "cells": [
  {
   "cell_type": "raw",
   "id": "833d0143-60eb-4a0b-be12-5348837cc871",
   "metadata": {
    "vscode": {
     "languageId": "raw"
    }
   },
   "source": [
    "---\n",
    "title: \"Exam 1: BIO100\"\n",
    "author: Your Name\n",
    "date: '10 Februaury 2024'\n",
    "format: \n",
    "  html:\n",
    "    code-fold: true\n",
    "jupyter: python3\n",
    "---"
   ]
  },
  {
   "cell_type": "markdown",
   "id": "fcf832fc",
   "metadata": {},
   "source": [
    "# Introduction\n",
    "\n",
    "Welcome to exam 1! This exam is meant to assess how you're able to use and adapt the skills we've developed in class so far. This is a take-home exam, meaning you are able to complete it outside of class. That also means you are able to use any resources in the slides, textbooks, notes, or interenet to help you complete the exam. The only thin you are not allowed to use is each other - all work must be your own! If you use sources like online forums or AI to complete your exams, you **must** be sure to cite your source. You do that by placing a version of this comment at the bottom of your coding cell:\n",
    "\n",
    "    # This problem was completed using ChatGPT/GeeksforGeeks/StackOverflow/etc.\n",
    "    # Prompt/page title: <PROMPT>\n",
    "\n",
    "\n",
    "You will have one week to complete this exam - it is due at the start of lab (2:20pm) on Monday, 17 February. For each problem, 10% of the points are for your style and comments - don't forget to follow the PEP-8 guidelines\n",
    "\n",
    "### Addendum:\n",
    "In this exam, you may wish to use mathematical formatting in your text. Markdown uses the same mathematical formatting a LaTeX, which is very easy to find. Some common examples are included here:\n",
    "To create a centered, formatted equation, use the `$$...$$` characters (you must have a blank line above and below). `$$E = mc^2$$` becomes\n",
    "\n",
    "$$E=mc^2$$\n",
    "\n",
    "To have mathematical symbols or variables within the text, you make use of the `$$` symbols. For example `$R$` becomes $R$. For greek letters, you simply use `$\\letter$` or `$\\Letter$` (depending on if you need the capitilized version or not. So `$\\delta$` becomes $\\delta$ and `$\\Delta$` becomes $\\Delta$. Some other useful syntax:\n",
    "\n",
    "* Superscripts (^): `$e^{3x}$` $\\rightarrow e^{3x}$\n",
    "* Subscripts (_): `$k_{m+}$` $\\rightarrow k_{m+}$\n",
    "* Right arrow (or left): `$\\rightarrow$` $\\rightarrow$ \n",
    "\n",
    "If you need any other symbols, online tools like Detixfy are very helpful\n"
   ]
  },
  {
   "cell_type": "code",
   "execution_count": 1,
   "id": "5cf524d1-35a8-4620-817d-d8d18939b635",
   "metadata": {},
   "outputs": [],
   "source": [
    "'''\n",
    "Preamble (worth 10 points)\n",
    "'''\n",
    "\n",
    "# Time to start practicing your good habits! \n",
    "# Don't forget to execute this cell before doing anything with your code below\n",
    "\n",
    "import random\n",
    "\n"
   ]
  },
  {
   "cell_type": "markdown",
   "id": "6482eea3",
   "metadata": {},
   "source": [
    "# Problem 1 (25 points)\n",
    "\n",
    "You knew it was coming: Finish the derivation from our first thermodynamics lecture to show that\n",
    "\n",
    "$$ U(x) = \\frac{1}{2}k(x-x_0)^2 -mg(x-x_0)$$\n",
    "when approximated with a taylor series, simplifies to\n",
    "$$ U(x) \\approx U(x_{eq}) + \\frac{1}{2}kq^2 + H.O.T.$$\n",
    "\n",
    "* The best way to complete this problem is to complete the derivation on paper or LatEx, then render your exam to a docx so that you can copy in your derivation\n",
    "* In this case, your style points will be given for the legibility of your answer"
   ]
  },
  {
   "cell_type": "markdown",
   "id": "43cf7f02",
   "metadata": {},
   "source": [
    "# Problem 2 (25 points)\n",
    "\n",
    "You are developing a basic inventory management system for a small store. This is a basic problem that can easily apply to microbiology, ecology, or diagnostic medicine. Keep this in mind as you work through the problem.\n",
    "\n",
    "**(A) write a function `create_inventory(items, quantities, prices)` that takes 3 lists as inputs:**\n",
    "\n",
    "* `items`: a list of name (strings)\n",
    "* `quantities`: a list of integers representing the quantity of each item\n",
    "* `prices`: a list of floats representing the price of each item\n",
    "\n",
    "**The function should return a dictionary where the keys are item names and the values are lists containing the corresponding quantity and price. (10 points)**"
   ]
  },
  {
   "cell_type": "code",
   "execution_count": null,
   "id": "6a807f94",
   "metadata": {},
   "outputs": [],
   "source": [
    "'''\n",
    "Problem 2A code\n",
    "'''"
   ]
  },
  {
   "cell_type": "markdown",
   "id": "c1da706a",
   "metadata": {},
   "source": [
    "**(B) Write a function `inventory_value(inventory)` that takes the inventory dictionary and returns the total value of all items in stock. (10 points)**"
   ]
  },
  {
   "cell_type": "code",
   "execution_count": null,
   "id": "788e295b",
   "metadata": {},
   "outputs": [],
   "source": [
    "'''\n",
    "Problem 2B code\n",
    "'''"
   ]
  },
  {
   "cell_type": "markdown",
   "id": "c593f4d6",
   "metadata": {},
   "source": [
    "**(C) give an example of how functions like this could be used for understanding biological systems (2.5 points)** "
   ]
  },
  {
   "cell_type": "markdown",
   "id": "a450a385",
   "metadata": {},
   "source": [
    "# Problem 3 (25 points)\n",
    "\n",
    "Below, you have the results of a patients cytology from one microliter of blood - a count and identification of their white blood cells. Answer the following questions to help diagnose the patient"
   ]
  },
  {
   "cell_type": "code",
   "execution_count": null,
   "id": "c7308193",
   "metadata": {},
   "outputs": [],
   "source": [
    "'''\n",
    "Problem 3 code set up - run this cell, but DON'T CHANGE ANYTHING\n",
    "'''\n",
    "\n",
    "# list of white blood cell types\n",
    "wbc = ['neutro', 'lymph', 'mono', 'eos', 'baso']\n",
    "\n",
    "\n",
    "results = []\n",
    "for each in wbc:\n",
    "    num = random.randint(900,20000)\n",
    "    wbc.extend([each]*num)"
   ]
  },
  {
   "cell_type": "markdown",
   "id": "d8ec80af",
   "metadata": {},
   "source": [
    "**(A) How many white blood cells are in the cytology report? What is the average WBC count for a standard blood test? Is your patient above or below normal? (7.5 points)**\n",
    "\n",
    "*Note: 1E9/L = 1000/uL*\n",
    "\n",
    "(typed answer here)"
   ]
  },
  {
   "cell_type": "code",
   "execution_count": null,
   "id": "74637e91",
   "metadata": {},
   "outputs": [],
   "source": [
    "'''\n",
    "Problem 3A code\n",
    "'''"
   ]
  },
  {
   "cell_type": "markdown",
   "id": "5383d0f7",
   "metadata": {},
   "source": [
    "**(B) How many of each type of blood cell are there? Which type is most abundant? (5 points)**\n",
    "\n",
    "(typed answer here)"
   ]
  },
  {
   "cell_type": "code",
   "execution_count": null,
   "id": "5f787844",
   "metadata": {},
   "outputs": [],
   "source": [
    "'''\n",
    "Problem 3B code\n",
    "'''"
   ]
  },
  {
   "cell_type": "markdown",
   "id": "fc30758f",
   "metadata": {},
   "source": [
    "**(C) What do your cytology results tell you about your patient? What is your tenative diagnosis? (10 points)**\n",
    "\n",
    "*Note: You will likely need to look up informaiton elsewhere - be sure to cite your sources*\n",
    "\n",
    "(typed answer here)"
   ]
  },
  {
   "cell_type": "markdown",
   "id": "334e192b",
   "metadata": {},
   "source": [
    "# Problem 4 (20 points)\n",
    "\n",
    "Table 1.1 from PBOC2 has been attached below. Use the table to answer the following questions. You may use a combination of code and written explanation for you solution\n",
    "\n",
    "**(A) What is the volume difference between the yeast genome and the E. Coli Genome? (5 points)**\n",
    "\n",
    "(typed answer here, if needed)"
   ]
  },
  {
   "cell_type": "code",
   "execution_count": null,
   "id": "e39bbda2",
   "metadata": {},
   "outputs": [],
   "source": [
    "'''\n",
    "Problem 4A code\n",
    "'''"
   ]
  },
  {
   "cell_type": "markdown",
   "id": "60a038c3",
   "metadata": {},
   "source": [
    "**(B) How much more volume is non-genomic in yeast compared to E. Coli? (5 points)**\n",
    "\n",
    "(typed answer here, if needed)"
   ]
  },
  {
   "cell_type": "code",
   "execution_count": null,
   "id": "69b001f1",
   "metadata": {},
   "outputs": [],
   "source": [
    "'''\n",
    "Problem 4B code\n",
    "'''"
   ]
  },
  {
   "cell_type": "markdown",
   "id": "a97eb632",
   "metadata": {},
   "source": [
    "**(C) You have the replication rate for both yeast and E. Coli, and you also have the length of their respective genomes. What are the approximate rates of genomic replication for each species, in bp/sec (5 points)? What explanation can you give for this difference? (2.5 points)**\n",
    "\n",
    "(typed answer here, if needed)"
   ]
  },
  {
   "cell_type": "code",
   "execution_count": null,
   "id": "99dfe540",
   "metadata": {},
   "outputs": [],
   "source": [
    "'''\n",
    "Problem 4C code\n",
    "'''"
   ]
  }
 ],
 "metadata": {
  "kernelspec": {
   "display_name": "Python 3",
   "language": "python",
   "name": "python3"
  },
  "language_info": {
   "codemirror_mode": {
    "name": "ipython",
    "version": 3
   },
   "file_extension": ".py",
   "mimetype": "text/x-python",
   "name": "python",
   "nbconvert_exporter": "python",
   "pygments_lexer": "ipython3",
   "version": "3.12.1"
  }
 },
 "nbformat": 4,
 "nbformat_minor": 5
}
