{
 "cells": [
  {
   "cell_type": "raw",
   "id": "833d0143-60eb-4a0b-be12-5348837cc871",
   "metadata": {
    "vscode": {
     "languageId": "raw"
    }
   },
   "source": [
    "---\n",
    "title: \"Exam 3: BIO100\"\n",
    "author: Your Name\n",
    "date: '21 April 2024'\n",
    "format: \n",
    "  html:\n",
    "    code-fold: true\n",
    "jupyter: python3\n",
    "---"
   ]
  },
  {
   "cell_type": "markdown",
   "id": "fcf832fc",
   "metadata": {},
   "source": [
    "# Introduction\n",
    "\n",
    "Welcome to exam 3, your final exam! This is a take-home exam, meaning you are able to complete it outside of class. That also means you are able to use any resources in the slides, textbooks, notes, or interenet to help you complete the exam. The only thin you are not allowed to use is each other - all work must be your own! If you use sources like online forums or AI to complete your exams, you **must** be sure to cite your source. You do that by placing a version of this comment at the bottom of your coding cell:\n",
    "\n",
    "    # This problem was completed using ChatGPT/GeeksforGeeks/StackOverflow/etc.\n",
    "    # Prompt/page title: <PROMPT>\n",
    "\n",
    "\n",
    "You will have one week to complete this exam - it is due at the start of lab (2:20pm) on Monday, 31 March. For each problem, 10% of the points are for your style and comments - don't forget to follow the PEP-8 guidelines\n",
    "\n",
    "In this exam, you may wish to use mathematical formatting in your text. Markdown uses the same mathematical formatting a LaTeX, which is very easy to find. Some common examples are included here:\n",
    "To create a centered, formatted equation, use the `$$...$$` characters (you must have a blank line above and below). `$$E = mc^2$$` becomes\n",
    "\n",
    "$$E=mc^2$$\n",
    "\n",
    "To have mathematical symbols or variables within the text, you make use of the `$$` symbols. For example `$R$` becomes $R$. For greek letters, you simply use `$\\letter$` or `$\\Letter$` (depending on if you need the capitilized version or not. So `$\\delta$` becomes $\\delta$ and `$\\Delta$` becomes $\\Delta$. Some other useful syntax:\n",
    "\n",
    "* Superscripts (^): `$e^{3x}$` $\\rightarrow e^{3x}$\n",
    "* Subscripts (_): `$k_{m+}$` $\\rightarrow k_{m+}$\n",
    "* Right arrow (or left): `$\\rightarrow$` $\\rightarrow$ \n",
    "\n",
    "If you need any other symbols, online tools like [http://detexify.kirelabs.org/classify.html](Detexixfy) are very helpful\n"
   ]
  },
  {
   "cell_type": "code",
   "execution_count": 1,
   "id": "5cf524d1-35a8-4620-817d-d8d18939b635",
   "metadata": {},
   "outputs": [
    {
     "data": {
      "text/plain": [
       "'\\nPreamble\\n'"
      ]
     },
     "execution_count": 1,
     "metadata": {},
     "output_type": "execute_result"
    }
   ],
   "source": [
    "'''\n",
    "Preamble\n",
    "'''\n",
    "\n",
    "# Time to start practicing your good habits! \n",
    "# Don't forget to execute this cell before doing anything with your code below\n",
    "\n"
   ]
  },
  {
   "cell_type": "markdown",
   "id": "7fac9de4",
   "metadata": {},
   "source": [
    "## Problem 1 (40 points)\n",
    "\n",
    "In this problem, we're going to practice looking for feed-forward loops in our `network_tf_tf_clean.txt` system from lab 8. Previously, we've looked at ways to search for\n",
    "\n",
    "$$ X \\rightarrow Z $$\n",
    "\n",
    "Now, we want to be able to find Coherent Type 1 FFLs. Remember that the cascade portion of an I1-FFL looks like\n",
    "\n",
    "$$ X \\rightarrow Y \\rightarrow Z $$\n",
    "\n",
    "We have alo previously practiced searching for simple motifs in Lab 8. Using these previous skills, create a method for identifying C1-FFLs in this network. Be sure to comment your code (5 points)"
   ]
  },
  {
   "cell_type": "markdown",
   "id": "10a3d04e",
   "metadata": {},
   "source": [
    "### Part A (5 points) - Upload network data "
   ]
  },
  {
   "cell_type": "code",
   "execution_count": null,
   "id": "eb5a6247",
   "metadata": {},
   "outputs": [],
   "source": [
    "'''\n",
    "Question 1A\n",
    "'''"
   ]
  },
  {
   "cell_type": "markdown",
   "id": "85ba806e",
   "metadata": {},
   "source": [
    "### Part B (15 points) - Create a function to look for the cascade portion of the C1-FFL "
   ]
  },
  {
   "cell_type": "code",
   "execution_count": null,
   "id": "97301e9f",
   "metadata": {},
   "outputs": [],
   "source": [
    "'''\n",
    "Question 1B\n",
    "'''"
   ]
  },
  {
   "cell_type": "markdown",
   "id": "4ca67938",
   "metadata": {},
   "source": [
    "### Part C (10 points) - Finish creating a function to identify C1-FFls\n"
   ]
  },
  {
   "cell_type": "code",
   "execution_count": null,
   "id": "cce4f7a1",
   "metadata": {},
   "outputs": [],
   "source": [
    "'''\n",
    "Question 1C\n",
    "'''"
   ]
  },
  {
   "cell_type": "markdown",
   "id": "1108c84d",
   "metadata": {},
   "source": [
    "### Part D (10 points) - Count the number of C1-FFLs in the network\n"
   ]
  },
  {
   "cell_type": "code",
   "execution_count": null,
   "id": "48f7e973",
   "metadata": {},
   "outputs": [],
   "source": [
    "'''\n",
    "Question 1D\n",
    "'''"
   ]
  },
  {
   "cell_type": "markdown",
   "id": "9468c3ca",
   "metadata": {},
   "source": [
    "## Problem 2 (30 points)\n",
    "\n",
    "Let's take another look at phosphorylation cascades. In class, we proved the rate of double phosphorylation, and then I showed you we can extrapolate this to believe that the phosphorylated entities are given by:\n",
    "\n",
    "$$ R_{p^n} = \\left(\\frac{K}{P}\\right)^n \\cdot R $$\n",
    "\n",
    "and also that the saturation function is given by:\n",
    "\n",
    "$$ Y_n = \\frac{S^n}{\\sum_{i=0}^n S_i} $$"
   ]
  },
  {
   "cell_type": "markdown",
   "id": "9c4c61e5",
   "metadata": {},
   "source": [
    "### Part A (10 points) - Prove these equations for the `n = 4` case\n",
    "\n",
    "(answer here)"
   ]
  },
  {
   "cell_type": "markdown",
   "id": "f230bc3e",
   "metadata": {},
   "source": [
    "### Part B (15 points) - Plot the saturation curve from `n = 4` and `n = 2`. Be sure to add a legend to your graph to make clear which line corresponds to which phosphorylation cascade"
   ]
  },
  {
   "cell_type": "code",
   "execution_count": null,
   "id": "b7315d21",
   "metadata": {},
   "outputs": [],
   "source": [
    "'''\n",
    "Answer for Question 2B\n",
    "'''"
   ]
  },
  {
   "cell_type": "markdown",
   "id": "46fa1ada",
   "metadata": {},
   "source": [
    "### Part C (5 points) - What are the half-saturation values for `n = 4` and `n = 2`? What does this difference mean biologically?\n",
    "\n",
    "(answer here)"
   ]
  },
  {
   "cell_type": "markdown",
   "id": "af5a59bb",
   "metadata": {},
   "source": [
    "## Problem 3 (30 points)\n",
    "\n",
    "The following figure shows some key players in the metabolic pathways that lead to alzheimer’s disease. Considering only those nodes which are higlighted (AKT, PI3K, GSK-3 $\\beta$, and Amyloid $\\beta$), create a Booelan model of the system.\n Note that the PDF with the image for this exam is posted to Sakai under the 'Exams' folder. \n"
   ]
  },
  {
   "cell_type": "markdown",
   "id": "2b17bca3",
   "metadata": {},
   "source": [
    "### Part A (10 points) Define your update rules"
   ]
  },
  {
   "cell_type": "code",
   "execution_count": null,
   "id": "231c8498",
   "metadata": {},
   "outputs": [],
   "source": [
    "'''\n",
    "Question 3A\n",
    "'''"
   ]
  },
  {
   "cell_type": "markdown",
   "id": "92b959f1",
   "metadata": {},
   "source": [
    "### Part B (20 points) Simulate your system for 25 time steps. Trace the value of each node, and plot their values over time"
   ]
  },
  {
   "cell_type": "code",
   "execution_count": null,
   "id": "9f744634",
   "metadata": {},
   "outputs": [],
   "source": [
    "'''\n",
    "Question 3B\n",
    "'''"
   ]
  }
 ],
 "metadata": {
  "kernelspec": {
   "display_name": "Python 3",
   "language": "python",
   "name": "python3"
  },
  "language_info": {
   "codemirror_mode": {
    "name": "ipython",
    "version": 3
   },
   "file_extension": ".py",
   "mimetype": "text/x-python",
   "name": "python",
   "nbconvert_exporter": "python",
   "pygments_lexer": "ipython3",
   "version": "3.12.1"
  }
 },
 "nbformat": 4,
 "nbformat_minor": 5
}
