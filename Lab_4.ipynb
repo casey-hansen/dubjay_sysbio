{
 "cells": [
  {
   "cell_type": "raw",
   "id": "0e4e814b-8b4f-40e7-9a24-f00c282fb3b1",
   "metadata": {},
   "source": [
    "---\n",
    "title: \"Lab 4: A Mini Model in Markov Chains\"\n",
    "author: Your Name\n",
    "date: '28 Februaury 2024'\n",
    "format: \n",
    "  html:\n",
    "    code-fold: true\n",
    "jupyter: python3\n",
    "---"
   ]
  },
  {
   "cell_type": "markdown",
   "id": "46298ac6-b20e-4197-a6ff-108b5bfd9eed",
   "metadata": {},
   "source": [
    "# Module 1: Pre-lab\n",
    "\n",
    "Before you begin today's lab, talk with your partner about productive learning strategies. What tricks and tactics has your partner found to be most helpful in being successful in their classes? \n",
    "\n",
    "### Task 1.1 Describe 3 of them below (6 points):\n",
    "\n",
    "1. Skill 1\n",
    "2. Skill 2\n",
    "3. Skill 3"
   ]
  },
  {
   "cell_type": "markdown",
   "id": "53e3ab3a-4b1e-4dac-84eb-ebca5b18de4a",
   "metadata": {},
   "source": [
    "# Module 2: Modeling a System Using Markov Chains\n",
    "\n",
    "We have already seen that we can represent a model by it's transition state probabilities:\n",
    "|        | Burger | Pizza | Hotdog |\n",
    "|--------|--------|-------|--------|\n",
    "| Burger | 0.2    | 0.6   | 0.2    |\n",
    "| Pizza  | 0.3    | 0     | 0.7    |\n",
    "| Hotdog | 0.5    | 0     | 0.5    |\n",
    "\n",
    "In this lab, we will learn\n",
    "\n",
    "* How to represent this table in Python\n",
    "* How to trace the states of nodes over time using matrices\n",
    "* How to find the equilbrium state\n",
    "* How to visualize trace data\n",
    "* How to apply these methods to a larger system"
   ]
  },
  {
   "cell_type": "code",
   "execution_count": null,
   "id": "7bc94a91-48eb-46a2-94e8-89a962e4deed",
   "metadata": {},
   "outputs": [],
   "source": [
    "'''\n",
    "Preamble\n",
    "'''\n",
    "\n",
    "# We're going to need the NumPy package for today's lab\n",
    "import numpy as np\n",
    "\n",
    "# We will also need matplotlib - we're going to plot!\n",
    "import matplotlib.pyplot as plt"
   ]
  },
  {
   "cell_type": "code",
   "execution_count": null,
   "id": "7528c959-d545-4c6f-9524-9a7ddf440464",
   "metadata": {},
   "outputs": [],
   "source": [
    "'''\n",
    "System Set Up\n",
    "'''\n",
    "# Matrices in Python are defined as lists of lists\n",
    "# They are defined one row at a time\n",
    "# I don't have to write 0 as 0.0, but it makes the matrix easier to read\n",
    "lunch_matrix = [[0.2, 0.6, 0.2],\n",
    "         [0.3, 0.0, 0.7],\n",
    "         [0.5, 0.0, 0.5]]\n",
    "\n",
    "# Define the initial state - we start at pizza\n",
    "# We only have one row, so no need for double brackets\n",
    "pi_0 = [0, 1, 0]\n",
    "\n",
    "# Run our first time step using the NumPy dot product\n",
    "# It's also VERY important that the initial state is the first argument\n",
    "time_1 = np.dot(pi_0,lunch_matrix)\n",
    "print(time_1)"
   ]
  },
  {
   "cell_type": "markdown",
   "id": "9834f1cd-5cdb-4dc7-8859-7cfa0e3d9521",
   "metadata": {},
   "source": [
    "Now, there are 2 ways that we can model a system. We can run the model over time and observe it's final state (sometimes useful, but generally boring), or we can *trace* the states of the nodes in the system, and either observe the states, or look for equilibrium\n",
    "\n",
    "### Task 2.1 Find the state of the lunch system after 1000 time steps.\n",
    "\n",
    "For this task, I'm expecting you to\n",
    "\n",
    "* calculate the next state based on the previous time step\n",
    "* run this calculation 1000 times\n",
    "* print out the final state"
   ]
  },
  {
   "cell_type": "code",
   "execution_count": null,
   "id": "bdfa02c7-dbc0-41f1-9636-184dd7b77a6d",
   "metadata": {},
   "outputs": [],
   "source": [
    "'''\n",
    "Running a trace\n",
    "'''\n",
    "\n",
    "# To run a trace, we will need to *SAVE* our states for each time step\n",
    "# For this, we use a for loop (or a while loop if you're a psychopath)\n",
    "\n",
    "# Create list of pi matrices, starting with pi_0\n",
    "pi = [pi_0]\n",
    "\n",
    "# Run trace for 1000 steps (remember tricky indicies)\n",
    "for i in range(999):\n",
    "    # Run the state calculation for the timestep\n",
    "    pi_next = np.dot(pi[i],lunch_matrix)\n",
    "    # Save the state to our pi_0 matrix\n",
    "    # You have to tell Python your adding a list or it freaks out...\n",
    "    pi.append(list(pi_next))\n"
   ]
  },
  {
   "cell_type": "code",
   "execution_count": null,
   "id": "24463634-73d2-4bea-8213-2e7d72d8e91a",
   "metadata": {},
   "outputs": [],
   "source": [
    "'''\n",
    "Plotting our output\n",
    "'''\n",
    "      \n",
    "# Now, it would be very nice to look at our traces!\n",
    "# We can use arrays to sneakily access all the data for a single node\n",
    "burger = np.array(pi)[:,0]\n",
    "# And we also need to create a list of time steps\n",
    "# This time indicies are tricky the other way\n",
    "time = list(range(1,1001))\n",
    "\n",
    "# Finally, we create our graph\n",
    "# define figure\n",
    "fig, ax = plt.subplots()\n",
    "# plot data\n",
    "ax.plot(time, burger)\n",
    "# add labels\n",
    "ax.set(xlabel='time (s)', ylabel='probability',\n",
    "       title='Trace for burger probability')\n",
    "# make sure there's an actual graph for the data to be plotted on\n",
    "ax.grid()\n",
    "\n",
    "# You can save the figure if you want - I don't want\n",
    "#fig.savefig(\"test.png\")\n",
    "# show the graph\n",
    "plt.show()\n"
   ]
  },
  {
   "cell_type": "markdown",
   "id": "17aced9c-b66d-4eb8-8290-0edc64deb710",
   "metadata": {},
   "source": [
    "### Task 2.2 Generate the plots for the other 2 lunch options! (2 points)\n",
    "For this task, I'm expecting you to\n",
    "\n",
    "* Define the trace data for both hotdogs and pizza (you can reuse the 'time' list!)\n",
    "* Use the trace data to create 2 plots of the traces"
   ]
  },
  {
   "cell_type": "code",
   "execution_count": null,
   "id": "d6ddbbad-9fcf-4fe2-a7e9-f116d1711a2e",
   "metadata": {},
   "outputs": [],
   "source": [
    "'''\n",
    "Hotdog and Pizza plots\n",
    "'''\n"
   ]
  },
  {
   "cell_type": "markdown",
   "id": "7d25a9c9-c085-4f28-9c44-4aadf4cf839a",
   "metadata": {},
   "source": [
    "# Module 3 - Building your own model\n",
    "\n",
    "Now it's time to jump in! On Sakai, you'll find a paper mosquitoes as disease vectors. Figure 2(b) has a state transition model as one of the key figures. You're going to use that figure to develop your own model.\n",
    "\n",
    "### Task 3.1 Make sure you add comments to all of your code - my comments don't count! (2 points)"
   ]
  },
  {
   "cell_type": "markdown",
   "id": "73688fcd-60ec-4912-a20e-64038309f6a5",
   "metadata": {},
   "source": [
    "### Task 3.2 Use your model to create a table representing the state transition matrix (2 points)\n",
    "\n",
    "I recommend using [a table generator]{https://www.tablesgenerator.com/markdown_tables} to save you time. You create the table using a GUI, and then the app will create the text for in markdown for you to copy and paste."
   ]
  },
  {
   "cell_type": "markdown",
   "id": "3e94d608-53a9-4d1e-9d01-3bf6b358ab8d",
   "metadata": {},
   "source": [
    "### Task 3.3 Define your state transition matrix and initial state (2 points)\n",
    "Here, you have the option to choose: Because you can have *multiple* initial states. You can decide that there is a temperature gradient. If you do this, you have to make sure that your initial state matrix values add up to 1.0."
   ]
  },
  {
   "cell_type": "markdown",
   "id": "454ff05e-fb19-43e7-8787-c2c12ebb7056",
   "metadata": {},
   "source": [
    "### Task 3.4 Run your model for 10,000 time steps (2 points)"
   ]
  },
  {
   "cell_type": "markdown",
   "id": "4e9d549e-e662-4e10-90de-3cf4a6bcf313",
   "metadata": {},
   "source": [
    "### Task 3.5 Plot the traces on a single graph (10 points)\n",
    "\n",
    "You know it can't be that easy, right? Instead of creating 5 separate trace graphs for each state, I want you to plot all traces on the same graph. To do this, you will need to:\n",
    "\n",
    "* Find out how to plot multiple lines on the same graph\n",
    "* Add a legend "
   ]
  },
  {
   "cell_type": "markdown",
   "id": "c4bcb978-db48-427f-9780-13285dcda9c3",
   "metadata": {},
   "source": [
    "# Module 4 - Homework\n",
    "For each problem I am looking for the following things:\n",
    "\n",
    "* The problem set up. Where did you start?\n",
    "* All steps used to solve your problem. I cannot give partial credit if there is no work shown\n",
    "* Comments in any code used to arrive at your solutions\n",
    "* Citations for any information you had to look up to solve your problem. Citations do *not* have to be formal. A link to the source or a comment quoting your ChatGPT/LLM prompt is sufficient\n",
    "* Answers to all parts of the question (some ask you to find a value and then comment on the value)"
   ]
  },
  {
   "cell_type": "markdown",
   "id": "18429303-8c5e-4c2f-a981-16e698b560d9",
   "metadata": {},
   "source": [
    "### 4.1: Compare your model results to those presented in the paper. Are they different? Why or why not? (5 points)"
   ]
  },
  {
   "cell_type": "markdown",
   "id": "08f79d02-b4f4-4707-8941-d89f829cd244",
   "metadata": {},
   "source": [
    "### 4.2 - PBOC2 5.4(c): A one-dimensional potential-energy landscape is given by the equation $f(x) = x^4 − 2x^2 − 1$. Find the two minima and do a Taylor expansion around one of them to second order (i.e. to the 2nd derivative). (5 points)\n",
    "### Show the original function and the approximation on the same plot in. (5 points)\n",
    "Hint: You will need to look up how to plot a function on a graph in Python"
   ]
  },
  {
   "cell_type": "markdown",
   "id": "24949a0a-849e-487a-bb3e-03e9603b56c9",
   "metadata": {},
   "source": [
    "### 4.3 - PBOC2 5.7 In this chapter, we began practising with counting arguments (i.e. states). One of the ways we will use counting arguments is in thinking about diffusive trajectories.Consider eight particles, four of which are black and four white. Four particles can fit left of a permeable membrane and four can fit right of the membrane. Imagine that due to random motion of the particles every arrangement of the eight particles is equally likely. Some possible arrangements are BBBB|WWWW, BBBW|BWWW, WBWB|WBWB; the membrane position is denoted by |.\n",
    "### (a) How many different arrangements are there? (5 points)\n",
    "### (b) Calculate the probability of having all four black particles on the left of the permeable membrane. What is the probability of having one white particle and three black particles on the left of the membrane. Finally, calculate the probability that two white and two black particles are left of the membrane. Compare these three probabilities. Which arrangement is most likely? (5 points)"
   ]
  },
  {
   "cell_type": "code",
   "execution_count": null,
   "id": "0d813951-fa4c-4da7-b72b-bde5df314144",
   "metadata": {},
   "outputs": [],
   "source": []
  }
 ],
 "metadata": {
  "kernelspec": {
   "display_name": "Python 3 (ipykernel)",
   "language": "python",
   "name": "python3"
  },
  "language_info": {
   "codemirror_mode": {
    "name": "ipython",
    "version": 3
   },
   "file_extension": ".py",
   "mimetype": "text/x-python",
   "name": "python",
   "nbconvert_exporter": "python",
   "pygments_lexer": "ipython3",
   "version": "3.12.1"
  }
 },
 "nbformat": 4,
 "nbformat_minor": 5
}
