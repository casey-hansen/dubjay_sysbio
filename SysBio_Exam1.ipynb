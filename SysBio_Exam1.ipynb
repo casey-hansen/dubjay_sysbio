{
 "cells": [
  {
   "cell_type": "raw",
   "id": "1dbe72f7-eacb-4e49-bbd4-7e60d1956203",
   "metadata": {},
   "source": [
    "---\n",
    "title: \"BIO247/BIO100 - Exam 1\"\n",
    "author: Your Name\n",
    "date: 'Due Friday 1 March at 11:40am'\n",
    "format: \n",
    "  html:\n",
    "    code-fold: true\n",
    "jupyter: python3\n",
    "---"
   ]
  },
  {
   "cell_type": "code",
   "execution_count": null,
   "id": "a7757b0f-a987-41f0-954b-e5416a7bbf56",
   "metadata": {},
   "outputs": [],
   "source": [
    "'''\n",
    "Preamble\n",
    "'''\n",
    "\n",
    "# Put any Python modules you need here"
   ]
  },
  {
   "cell_type": "markdown",
   "id": "0f67aef9-f5a8-4cb5-933c-770980d063b1",
   "metadata": {},
   "source": [
    "# Notes for the exam\n",
    "\n",
    "### Math in Markdown\n",
    "In this exam, you may wish to use mathematical formatting in your text. Markdown uses the same mathematical formatting a LaTeX, which is very easy to find. Some common examples are included here:\n",
    "\n",
    "To create a centered, formatted equation, use the `$$...$$ ` characters (you must have a blank line above and below). `$$E = mc^2$$` becomes\n",
    "\n",
    "$$E = mc^2$$\n",
    "\n",
    "To have mathematical symbols or variables within the text, you make use of the `$$` symbols. For example `$R$` becomes $R$. \n",
    "For greek letters, you simply use `$\\letter$` or `$Letter$` (depending on if you need the capitilized version or not. So `$\\delta$` becomes $\\delta$ and `$\\Delta$` becomes $\\Delta$. Some other useful syntax:\n",
    "\n",
    "* Superscripts (^): `$e^{3x}$` $\\rightarrow$ $e^{3x}$\n",
    "* Subscripts (_): `$k_{m+}$` $\\rightarrow$ $k_{m+}$\n",
    "* Right arrow (or left): `$\\rightarrow$` $\\rightarrow$\n",
    "\n",
    "For any other symbols, I recommend the website [Detexify](http://detexify.kirelabs.org/classify.html) (or use the Google machine). \n",
    "\n",
    "### What if I get too stuck?\n",
    "If your code has an error, your file will not render through `Quarto`. If you genuinely feel you cannot complete a problem, but think you got close to the answer, the best way to submit your work is to comment out the entire code cell (`Ctrl/Cmd + /`)\n",
    "\n",
    "### Grading\n",
    "This exam is 125 points, each question its point value clearly defined. For each question, 10% of the overall points are for \"style,\" that is, any commenting or written explanation used in your answer. So for example, in Problem 1, 0.5 points from each parts are given for style (1.5 points total for the problem). "
   ]
  },
  {
   "cell_type": "markdown",
   "id": "d1dbdce3-d63f-4a14-b9e0-4c0d5b64654b",
   "metadata": {},
   "source": [
    "# Problem 1 (15 points)\n",
    "\n",
    "Table 1.1 from PBOC2 has been attached below. Use the table to answer the following questions. You may use a combination of code and written explanation for your solution. "
   ]
  },
  {
   "cell_type": "markdown",
   "id": "12d7a511-507a-46f7-b70a-ebde27f624f8",
   "metadata": {},
   "source": [
    "### (A) What is the volume difference betwene the yeast genome and the *E. Coli* genome? (5 points)"
   ]
  },
  {
   "cell_type": "markdown",
   "id": "50e8a2b6-0cf2-4c51-a838-4ce70758c1e3",
   "metadata": {},
   "source": [
    "### (B) How much more volume is non-genomic in yeast compared to *E. coli*? (5 points)"
   ]
  },
  {
   "cell_type": "markdown",
   "id": "fa11b72a-688b-4a86-9a03-420a714522b8",
   "metadata": {},
   "source": [
    "### (C) You have the replication rate for both yeast and *E. Coli*, and you also have the length of their respective genomes. What are the approximate rates of genomic replication for each species, in bp/sec? What explanation can you give for this difference? (5 points)"
   ]
  },
  {
   "cell_type": "markdown",
   "id": "5398780c-4361-42da-9c32-8b16f49aa149",
   "metadata": {},
   "source": [
    "# Problem 2 (30 points)\n",
    "Figure 2.1 from PBOC2 has been attached below. Use the figure to answer the following questions. You may use a combination of code and written explanation for your solution.\n"
   ]
  },
  {
   "cell_type": "markdown",
   "id": "b53c7495-b233-4bca-92d0-89ebb5dc37c3",
   "metadata": {},
   "source": [
    "### (A) Use Figure 2.1 to justify the assumption that a typical bacterial cell (that is, *E. coli*) has a surface area of $6\\mu m^2$ and a volume of $1\\mu m^3$. Also, express this volume in femtoliters. Make a corresponding estimate of the mass of such a bacterium. (5 points) \n",
    "**Hint 1:** An *E. Coli* bacterium is approximately the shape of a cylinder \\\n",
    "**Hint 2:** You can assume the density of such a bacterium is the same as that of water (an assumption we disproved in Lab 2)"
   ]
  },
  {
   "cell_type": "markdown",
   "id": "30b59cd9-3ece-4231-a476-4740e5a90aaa",
   "metadata": {},
   "source": [
    "### (B) Roughly 2–3 kg of bacteria are harbored in your large intestine. Make an estimate of the total number of bacteria inhabiting your intestine (5 points). Estimate the total number of human cells in your body and compare the two figures (5 points)."
   ]
  },
  {
   "cell_type": "markdown",
   "id": "e9aab5ab-c83d-454b-8e4c-ccf87c77c188",
   "metadata": {},
   "source": [
    "### (C) The claim is made (in Whitman et al., 1998) that in the top 200$m$ of the world’s oceans, there are roughly 1028 prokaryotes (bacteria). Work out the total volume taken up by these cells in $m^3$ and $km^3$ (5 points). Compute their mean spacing (5 points). How many such cells are there per milliliter of ocean water (5 points)?\n",
    "**Hint 1:** The equation for a spherical shell is\n",
    "\n",
    "$$ \\frac{4\\pi}{3}(R^3-r^3) $$\n",
    "\n",
    "Where $R$ is the outer radius, and $r$ is the inner radius. The Radius of the earth is approximately $6400~km$. You should also assume that all prokaryotes exist in the upper $200~m$ of the ocean. Also, remember that the ocean is only 2/3 of the earth's surface.\\\n",
    "**Hint 2:** mean spacing can be approximated by the formula\n",
    "\n",
    "$$ d = c^{-1/3} $$\n",
    "\n",
    "where $c$ is the concentration.\n",
    "\n",
    "**Hint 3:** be careful of your units!"
   ]
  },
  {
   "cell_type": "markdown",
   "id": "87cbd827-76d0-4014-a02a-cf2832818a80",
   "metadata": {},
   "source": [
    "# Problem 3 (30 points)\n",
    "Use the figure of the confocal microscopy image below to answer the following questions. You may use a combination of code and written explanation for your solution."
   ]
  },
  {
   "cell_type": "markdown",
   "id": "cdb29a0c-b3a1-458f-a57e-c247ebeb0d4c",
   "metadata": {},
   "source": [
    "### (A) Calculate the average volume and surface area of mitochondria in yeast based on the figure (15 points)"
   ]
  },
  {
   "cell_type": "markdown",
   "id": "6a829de8-d7c1-4250-bb35-fb90f4fbafd6",
   "metadata": {},
   "source": [
    "### (B) Estimate the area of the endoplasmic reticulum when it is in reticular form using a model for its structure of interpenetrating cylinders of diameter $d \\approx 10~nm$ separated by a distance $a \\approx 60~nm$, as shown in the figure below. (15 points)"
   ]
  },
  {
   "cell_type": "markdown",
   "id": "bac5aae8-920a-4f4e-961e-af60dabe5b02",
   "metadata": {},
   "source": [
    "# Problem 4 (50 points)\n",
    "\n",
    "Answer the following question. You may use a combination of code and written explanation. \n",
    "\n",
    "**Hint:** You will need to use knowledge of *E. Coli* we have previously discussed in class."
   ]
  },
  {
   "cell_type": "markdown",
   "id": "e11b6e21-1394-44cf-bc96-5ac4e6e72f30",
   "metadata": {},
   "source": [
    "### (A) If RNA polymerase subunits $\\beta$ and $\\beta'$ together constitute approximately $0.5%$ of the total mass of protein in an $E. coli$ cell, how many RNA polymerase molecules are there per cell, assuming each $\\beta$ and $\\beta'$ subunit within the cell is found in a complete RNA polymerase molecule? The subunits have a mass of $150~kDa$ each. (15 points)"
   ]
  },
  {
   "cell_type": "markdown",
   "id": "fc26cd12-12fc-4174-908e-7502ca427c0a",
   "metadata": {},
   "source": [
    "### (B) Rifampin is an antibiotic used to treat $Mycobacterium$ infections such as tuberculosis. It inhibits the initiation of transcription, but not the elongation of RNA transcripts. The time evolution of an E. coli ribosomal RNA (rRNA) operon after addition of rifampin is shown in Figures 3.36(A)–(C). An operon is a collection of genes transcribed as a single unit. Use the figure to estimate the rate of transcript elongation. Use the beginning of the “Christmas-tree” morphology on the left of Figure 3.36(A) as the starting point for transcription. (15 points)"
   ]
  },
  {
   "cell_type": "markdown",
   "id": "c2b1ad71-d979-4203-ae5c-cb1a2c201ff6",
   "metadata": {},
   "source": [
    "### (C) Using the calculated elongation rate, estimate the frequency of transcriptions initiation off of the rRNA operon. These genes are among the most transcribed in E. coli. (5 points)"
   ]
  },
  {
   "cell_type": "markdown",
   "id": "cf0f601a-226f-4f13-a793-1e0a54cb2314",
   "metadata": {},
   "source": [
    "### (D) A typical $E. coli$ cell with a division time of 3000 s contains roughly 20,000 ribosomes. Assuming there is no ribosome degradation, how many RNA polymerase molecules must be synthesizing rRNA at any instant? What percentage of the RNA polymerase molecules in $E. coli$ are involved in transcribing rRNA genes? (15 points)"
   ]
  },
  {
   "cell_type": "code",
   "execution_count": null,
   "id": "0b137f2a-dec5-43d7-8204-4a06bf22c326",
   "metadata": {},
   "outputs": [],
   "source": []
  }
 ],
 "metadata": {
  "kernelspec": {
   "display_name": "Python 3 (ipykernel)",
   "language": "python",
   "name": "python3"
  },
  "language_info": {
   "codemirror_mode": {
    "name": "ipython",
    "version": 3
   },
   "file_extension": ".py",
   "mimetype": "text/x-python",
   "name": "python",
   "nbconvert_exporter": "python",
   "pygments_lexer": "ipython3",
   "version": "3.12.1"
  }
 },
 "nbformat": 4,
 "nbformat_minor": 5
}
