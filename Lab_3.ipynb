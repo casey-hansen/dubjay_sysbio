{
 "cells": [
  {
   "cell_type": "raw",
   "id": "37fd1f66-eb54-43fe-8c42-b9534ddbea01",
   "metadata": {},
   "source": [
    "---\n",
    "title: \"Lab 3: Random Walks and Turing Patterns\"\n",
    "author: Your Name\n",
    "date: '14 Februaury 2024'\n",
    "format: \n",
    "  html:\n",
    "    code-fold: true\n",
    "jupyter: python3\n",
    "---"
   ]
  },
  {
   "cell_type": "markdown",
   "id": "f921f903-25de-4804-bbfb-04b18620020c",
   "metadata": {},
   "source": [
    "# Introduction\n",
    "\n",
    "In today's lab, we will explore how the vital phenomena of random walks and reaction-diffusion is both simple and complex. After an overview lecture, you will work through several modules walking you through building a simulation of random walks. For your lab report, you will need to do the following:\n",
    "\n",
    "1. Complete the tasks identified in this document (there are 6 of them in total)\n",
    "1. Complete the homework questions in Module 5\n",
    "\n",
    "You will submit to Sakai the following:\n",
    "\n",
    "* This document, completed and adjusted to have your name in the header\n",
    "* The blender file you create for **Module 2**\n",
    "* The Python script you create for **Module 3**\n",
    "* The iPy notebook you create for **Module 4**"
   ]
  },
  {
   "cell_type": "markdown",
   "id": "fe3efe83-2b03-429e-928e-b0c50110e7b1",
   "metadata": {},
   "source": [
    "# Module 1 - Simulating Particle Diffusion\n",
    "\n",
    "**Task 1** - Critical Thinking Question (CTQ): What assumptions does MCell make in its simulation of particle diffusion (list at least two)? For each assumption, how to you think the simulation would differ if these assumptions *weren't* made? {5 points}"
   ]
  },
  {
   "cell_type": "markdown",
   "id": "f68f80a7-91b2-483e-959e-9cdd6b823f04",
   "metadata": {},
   "source": [
    "# Module 2 - Generating Turing Patterns with a Reaction-Diffusion Simulation\n",
    "\n",
    "**Task 2** - take the Python code that was given to you for this tutorial and add in comments. You are not required to comment every line, but you should cover the broad strokes (there's data initialization, loops, a big dictionary, and some functions - why is it there? {5 points}\n"
   ]
  },
  {
   "cell_type": "code",
   "execution_count": null,
   "id": "76c09dc2-d512-4118-9ca7-a3a90b4fd3a7",
   "metadata": {},
   "outputs": [],
   "source": [
    "import cellblender as cb\n",
    "dm = cb.get_data_model()\n",
    "mcell = dm['mcell']\n",
    "rels = mcell['release_sites']\n",
    "rlist = rels['release_site_list']\n",
    "point_list = []\n",
    "for x in range(10):\n",
    "    for y in range(10):\n",
    "        point_list.append([x/100,y/100,0.0])\n",
    "for x in range(10):\n",
    "    for y in range(10):\n",
    "        point_list.append([x/100 - 0.5,y/100 - 0.5,0.0])\n",
    "for x in range(10):\n",
    "    for y in range(10):\n",
    "        point_list.append([x/100 - 0.8,y/100,0.0])\n",
    "for x in range(10):\n",
    "    for y in range(10):\n",
    "        point_list.append([x/100 + 0.8,y/100 - 0.8,0.0])\n",
    "new_rel = {\n",
    "    'data_model_version' : \"DM_2015_11_11_1717\",\n",
    "    'location_x' : \"0\",\n",
    "    'location_y' : \"0\",\n",
    "    'location_z' : \"0\",\n",
    "    'molecule' : \"B\",\n",
    "    'name' : \"pred_rel\",\n",
    "    'object_expr' : \"arena\",\n",
    "    'orient' : \"'\",\n",
    "    'pattern' : \"\",\n",
    "    'points_list' : point_list,\n",
    "    'quantity' : \"400\",\n",
    "    'quantity_type' : \"NUMBER_TO_RELEASE\",\n",
    "    'release_probability' : \"1\",\n",
    "    'shape' : \"LIST\",\n",
    "    'site_diameter' : \"0.01\",\n",
    "    'stddev' : \"0\"\n",
    "}\n",
    "rlist.append ( new_rel )\n",
    "cb.replace_data_model ( dm )"
   ]
  },
  {
   "cell_type": "markdown",
   "id": "07ebb937-7a95-4bcc-840f-1f81aa189d6e",
   "metadata": {},
   "source": [
    "You may be wondering how the parameters in the above simulations were chosen. The fact of the matter is that for many choices of these parameters, we will obtain behavior that does not produce an animation as interesting as what we found in this tutorial. \n",
    "\n",
    "**Task 3** - Make slight changes to the feed and kill rates in the CellBlender reactions (e.g., multiplying one of them by 1.25) and watching the animation. \n",
    "CTQ: How does a small change in parameters cause the animation to change? {2 points}\n",
    " \n"
   ]
  },
  {
   "cell_type": "markdown",
   "id": "eb71291d-97d6-4802-82fa-3e9be76bd3e1",
   "metadata": {},
   "source": [
    "# Module 3 - Building a Diffusion Cellular Automaton\n",
    "\n",
    "Think back to the grids we developed to represent the concentration of *A* particles through space for the initial state, and the first time-step. After an additional time step, the particles continue to diffuse outward. For example, each diagonal neighbor of the central cell in the above figure, which has a concentration of 0.05 after one time step, will lose all of its particles in the following step. Each of these cells will also gain 20% of the particles from two of its adjacent neighbors, along with 5% of the particles from the central square (whose concentration is zero). This makes the updated concentration of this cell after two time steps equal to 2(0.2)(0.2) + 0.05(0) = 0.08.\n",
    "\n",
    "The four cells directly adjacent to the central square, which have a concentration of 0.2 after one time step, will also gain particles from their neighbors. Each such cell will receive 20% of the particles from two of its adjacent neighbors and 5% of the particles from two of its diagonal neighbors, which have a concentration of 0.2. Therefore, the updated concentration of each of these cells after two time steps is 2(0.2)(0.05) + 2(0.05)(0.2) = 0.02 + 0.02 = 0.04.\n",
    "\n",
    "Finally, the central square has no particles after one step, but it will receive 20% of the particles from each of its four adjacent neighbors, as well as 5% of the particles from each of its four diagonal neighbors. As a result, the central square’s concentration after two time steps is 4(0.2)(0.2) + 4(0.05)(0.05) = 0.17.\n",
    "\n",
    "Task 4 - Using this information, complete the table below for the 2nd time step (replace the ? with the values) {8 points}\n",
    "\n",
    "| ? | ?   | ?   | ?   | ? |\n",
    "|---|-----|-----|-----|---|\n",
    "| ? | .08 | .04 | .08 | ? |\n",
    "| ? | .04 | .17 | .04 | ? |\n",
    "| ? | .08 | .04 | .08 | ? |\n",
    "| ? | ?   | ?   | ?   | ? |"
   ]
  },
  {
   "cell_type": "markdown",
   "id": "fe626d71-3ea5-47c7-9fa2-9c2de8238b74",
   "metadata": {},
   "source": [
    "Now use the instructions in the `Lab 3 Protocol.pdf` file to create the necessary python script. The preamble you'll need for the script is below. Feel free to copy the code directly from the file to save time."
   ]
  },
  {
   "cell_type": "code",
   "execution_count": null,
   "id": "915eccb3-9445-4bb7-93fa-bc1ec1e11180",
   "metadata": {},
   "outputs": [],
   "source": [
    "'''\n",
    "Preamble for Module 3\n",
    "'''\n",
    "import matplotlib.pyplot as plt\n",
    "import numpy as np\n",
    "import time\n",
    "# You will need to run 'python3 -m pip install scipy' at the terminal\n",
    "# 'py3 -m pip install scipy' for Windows users\n",
    "from scipy import signal\n",
    "# You will need to run 'python3 -m pip install imageio' at the terminal\n",
    "# 'py3 -m pip install imageio' for Windows users\n",
    "import imageio \n",
    "\n",
    "%matplotlib inline"
   ]
  },
  {
   "cell_type": "markdown",
   "id": "dea22868-226f-4363-91a3-6fb13c2b8292",
   "metadata": {},
   "source": [
    "# Module 4 -  Implementing the Gray-Scott Reaction-Diffusion Automaton\n",
    "\n",
    "Use the instruction in the *Lab 3 Protocol.pdf* file to create the necessary iPy notebook. When you run your simulation, you should see an image analogous to the one in the diffusion simulation, but with much more complex behavior since we have added reactions to our model. \n",
    "\n",
    "**Task 5** - Try changing the feed and kill rate very slightly (e.g., by 0.01). \n",
    "CTQ - How does this affect the end result of your simulation? {2 points}\n",
    "\n",
    "**Task 6** - Reflect on this process of using mathematical theory and knowledge of the system physiology to help build a simulation. What understanding did building the simulation add? What new questions did it create? {3 points (1.5 points for each question)}"
   ]
  },
  {
   "cell_type": "markdown",
   "id": "943be20a-a909-4ac8-a0b8-90f7eb567010",
   "metadata": {},
   "source": [
    "# Module 5 - Homework\n",
    "\n",
    "## Question 1 (2 points)\n",
    "PBOC2 3.5(c) Another factor that needs to be taken into account is the decay of proteins. If all proteins decayed at the same rate, $\\gamma$ , how would this modify your results from (a)? How does the predicted functional from of R/A versus growth rate change? Explain why the data rule out $\\gamma$ being too large and hence infer a rough lower bound for the lifetime, 1/$\\gamma$ , of “average” proteins."
   ]
  },
  {
   "cell_type": "markdown",
   "id": "5ea2d9fa-1a21-4626-8257-93c64d64ae26",
   "metadata": {},
   "source": [
    "## Question 3 (5 points)\n",
    "\n",
    "In this lab, we created a simulation for 2 random particles, *A* and *B*. But this whole investigation started because one man started asking questions about zebra stripes. So what exactly *are* *A* and *B*? Find out what proteins are responsible for black and white fur. Be sure to include your sources.\n",
    "(Hint: enzymes are also proteins, I don't care what Kacey Mara says)"
   ]
  },
  {
   "cell_type": "markdown",
   "id": "9b40b223-f1b4-4eb0-9ae6-2f3e93aa9b75",
   "metadata": {},
   "source": [
    "## Question 3 (10 points)\n",
    "We've spent a lot of time taking advantage of the percolation theory representation of a system to explore random walks. But how would be build our own grid? In Python:\n",
    "(a) Create a 25$\\times$25 cell grid, and assign each cell a random value between 0 and 1. {5 points}\n",
    "(b) Define a threshold for the grid and then output what percentage of the grid is \"occupied\" (going with site percolation) {5 points}\n",
    "\n",
    "Helpful hints:\n",
    "* start with a small grid. say 5$\\times$5, or even 2$\\times$2.\n",
    "* Don't use dictionaries. You'll be coding for a year\n",
    "* You'll definitely want a loop. Maybe more than one.\n",
    "* Don't forget google is your friend"
   ]
  },
  {
   "cell_type": "markdown",
   "id": "fb85619b-978d-4fbd-bd9f-9ec7a24b471d",
   "metadata": {},
   "source": [
    "## Question 4 (8 points)\n",
    "\n",
    "Consider the following set of reactions describing the process of making a protein out of a gene:\n",
    "\n",
    "$$G \\rightarrow G+M (\\text{rate } \\beta_g)$$\n",
    "$$ M \\rightarrow \\varnothing (\\text{rate } \\alpha_m)$$\n",
    "$$ M \\rightarrow M+X (\\text{rate } \\beta_m)$$\n",
    "$$ X+S \\rightleftharpoons X_S (\\text{ forward rate } k_{1+} \\text{, reverse rate } k_{1-})$$\n",
    "$$ X_S \\rightleftharpoons X_S^* (\\text{ forward rate } k_{2+} \\text{, reverse rate } k_{2-})$$\n",
    "Here, $G$ is the gene coding for protein $X$. $M$ is the mRNA transcribed from $G$. $S$ is a signaling molecule. $X_S$ is the protein $X$ bound by the signaling molecule. $X_S^∗$ is the active form of the protein $X$.\n",
    "\n",
    "(A) For each reaction explain which step it describes. {4 points}\n",
    "\n",
    "(B) Write the differential equations that describe the time evolution of $G$, $M$ and $X$. (Don't forget to include the gene concentration in your equations.) {4 points}"
   ]
  },
  {
   "cell_type": "code",
   "execution_count": null,
   "id": "e4e578e4-2c04-4ea5-b311-d8949d5e0088",
   "metadata": {},
   "outputs": [],
   "source": []
  }
 ],
 "metadata": {
  "kernelspec": {
   "display_name": "Python 3 (ipykernel)",
   "language": "python",
   "name": "python3"
  },
  "language_info": {
   "codemirror_mode": {
    "name": "ipython",
    "version": 3
   },
   "file_extension": ".py",
   "mimetype": "text/x-python",
   "name": "python",
   "nbconvert_exporter": "python",
   "pygments_lexer": "ipython3",
   "version": "3.12.1"
  }
 },
 "nbformat": 4,
 "nbformat_minor": 5
}
