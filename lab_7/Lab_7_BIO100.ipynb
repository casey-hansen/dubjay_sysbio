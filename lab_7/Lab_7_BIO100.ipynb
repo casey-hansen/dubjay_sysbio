{
 "cells": [
  {
   "cell_type": "raw",
   "id": "da64f6b3-b138-4aa1-b7a3-6105feb9d673",
   "metadata": {
    "vscode": {
     "languageId": "raw"
    }
   },
   "source": [
    "---\n",
    "title: \"Lab 7: Image segmentation with the watershed algorithm\"\n",
    "author: Your Name\n",
    "date: '17 March 2024'\n",
    "format: \n",
    "  html:\n",
    "    code-fold: true\n",
    "jupyter: python3\n",
    "---"
   ]
  },
  {
   "cell_type": "markdown",
   "id": "197f4351-18f3-41fa-845f-01b982f7d6ec",
   "metadata": {},
   "source": [
    "# Module 1: The Watershed Transform\n",
    "\n",
    "In today's lab, you'll be working with the watershed transform to identify WBC nuclei. You'll need to download 3 microscopy images from the BCCD Dataset at [the BCCD dataset Github](https://github.com/Shenggan/BCCD_Dataset/tree/master/BCCD/JPEGImages) (it doesn't matter what 3 you pick). \n",
    "\n",
    "### Task 1.1 Which images did you pick (just give the number), and in each image, which type of WBC do *you* believe is shown? (5 points)\n",
    "\n",
    "(type answer here)"
   ]
  },
  {
   "cell_type": "markdown",
   "id": "1cc8ed0a-30b1-46d8-b7e6-8f86f832df47",
   "metadata": {},
   "source": [
    "Next, you'll use the code below to analyze your 3 images. \n",
    "\n",
    "### Task 1.2 Add comments to the code so that you understand what it's actually doing. There is an existing comment, you'll need it for the next task (5 points) "
   ]
  },
  {
   "cell_type": "markdown",
   "id": "0e4f5bdf-74ca-4090-b954-fff65fb22420",
   "metadata": {},
   "source": [
    "### Task 1.3 For each of your microscopy images, adjust the gradient value until the cell nucleus is correctly identified. Report the resultant gradient value for each image, and describe how accurate it is (in general terms - did it capture the entire nucleus? Did it capture extra parts of the image?). Using your knowledge of the watershed algorithm, describe how this process could potentially be automated to help automatically identify and count cells. (10 points)\n",
    "\n",
    "(type analysis here)"
   ]
  },
  {
   "cell_type": "code",
   "execution_count": null,
   "id": "1520c30f-1504-4c71-a7a2-7c6ab966dbdf",
   "metadata": {},
   "outputs": [],
   "source": [
    "'''\n",
    "Preamble\n",
    "'''\n",
    "\n",
    "import numpy as np\n",
    "import matplotlib.pyplot as plt\n",
    "from scipy import ndimage as ndi\n",
    "\n",
    "from skimage.segmentation import watershed\n",
    "from skimage.feature import peak_local_max"
   ]
  },
  {
   "cell_type": "code",
   "execution_count": null,
   "id": "1678ff50-c2ec-4a99-ac4c-fe197a0e08be",
   "metadata": {},
   "outputs": [],
   "source": [
    "'''\n",
    "watershed transform\n",
    "Code modified from the scikit-image team, copyright 2013-2023\n",
    "'''\n",
    "from scipy import ndimage as ndi\n",
    "import matplotlib.pyplot as plt\n",
    "\n",
    "from skimage.morphology import disk\n",
    "from skimage.segmentation import watershed\n",
    "from skimage import data\n",
    "from skimage.filters import rank\n",
    "from skimage.util import img_as_ubyte\n",
    "\n",
    "\n",
    "image = color.rgb2gray(io.imread('BloodImage_00000.jpg'))\n",
    "\n",
    "denoised = rank.median(image, disk(2))\n",
    "\n",
    "\n",
    "# define gradient value\n",
    "grad_val = 10\n",
    "markers = rank.gradient(denoised, disk(5)) < grad_val\n",
    "markers = ndi.label(markers)[0]\n",
    "\n",
    "gradient = rank.gradient(denoised, disk(2))\n",
    "\n",
    "labels = watershed(gradient, markers)\n",
    "\n",
    "fig, axes = plt.subplots(nrows=2, ncols=2, figsize=(8, 8),\n",
    "                         sharex=True, sharey=True)\n",
    "ax = axes.ravel()\n",
    "\n",
    "ax[0].imshow(image, cmap=plt.cm.gray)\n",
    "ax[0].set_title(\"Original\")\n",
    "\n",
    "ax[1].imshow(gradient, cmap=plt.cm.nipy_spectral)\n",
    "ax[1].set_title(\"Local Gradient\")\n",
    "\n",
    "ax[2].imshow(markers, cmap=plt.cm.nipy_spectral)\n",
    "ax[2].set_title(\"Markers\")\n",
    "\n",
    "ax[3].imshow(image, cmap=plt.cm.gray)\n",
    "ax[3].imshow(labels, cmap=plt.cm.nipy_spectral, alpha=.5)\n",
    "ax[3].set_title(\"Segmented\")\n",
    "\n",
    "for a in ax:\n",
    "    a.axis('off')\n",
    "\n",
    "fig.tight_layout()\n",
    "plt.show()"
   ]
  },
  {
   "cell_type": "markdown",
   "id": "8e06b47c",
   "metadata": {},
   "source": [
    "# Module 2: Identifying WBC of different species\n",
    "\n",
    "Now let's try your algorithm against a variety of species. Use the additional images in the `lab_7` folder on the class Github, and test your algorithm on white blood cells with slightly different morphology than human cells. \n",
    "\n",
    "### Task 2.1 How well did the algorithm perform? Why do you think this was the outcome? (5 points)\n",
    "\n",
    "(type analysis here)"
   ]
  },
  {
   "cell_type": "markdown",
   "id": "c2ff1229-adf7-406b-9599-3c3ab92e4f29",
   "metadata": {},
   "source": [
    "# Module 3: Homework \n",
    "\n",
    "### 3.1 Hill function (10 points)\n",
    "Recall that we can calculate the probability of a receptor being bound as\n",
    "\n",
    "$$ P^{(n)}_{bound} = \\frac{x^n}{1+x^n} $$\n",
    "\n",
    " Find the number of binding sites needed for $P_{bound}=1$ at $x=1$. How realistic is this? (10 points)"
   ]
  },
  {
   "cell_type": "code",
   "execution_count": null,
   "id": "be1dcf04",
   "metadata": {},
   "outputs": [],
   "source": [
    "'''\n",
    "Code for 3.1(c)\n",
    "'''"
   ]
  }
 ],
 "metadata": {
  "kernelspec": {
   "display_name": "Python 3 (ipykernel)",
   "language": "python",
   "name": "python3"
  },
  "language_info": {
   "codemirror_mode": {
    "name": "ipython",
    "version": 3
   },
   "file_extension": ".py",
   "mimetype": "text/x-python",
   "name": "python",
   "nbconvert_exporter": "python",
   "pygments_lexer": "ipython3",
   "version": "3.12.1"
  }
 },
 "nbformat": 4,
 "nbformat_minor": 5
}
