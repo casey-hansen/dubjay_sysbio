{
 "cells": [
  {
   "cell_type": "raw",
   "id": "bfabe99a-5836-4bd0-ad8a-a953d58f5258",
   "metadata": {},
   "source": [
    "---\n",
    "title: \"PEP8: a walkthrough\"\n",
    "format: \n",
    "  html:\n",
    "    code-fold: true\n",
    "jupyter: python3\n",
    "---"
   ]
  },
  {
   "cell_type": "code",
   "execution_count": null,
   "id": "e66c270d-76b4-458e-9160-c30a03181d71",
   "metadata": {},
   "outputs": [],
   "source": [
    "\"\"\"\n",
    "Naming conventions\n",
    "\"\"\"\n",
    "\n",
    "# Variable Names - lower case, with or without underscore\n",
    "var1 = \"A solid variable name\"\n",
    "var_1 = \"a little easier to read\"\n",
    "Num = \"no\"\n",
    "x = \"absolutely not\"\n",
    "\n",
    "# When you have different types of variables, it's helpful to be descriptive\n",
    "# You also want to get really good at abbreviations - keep your variable names \n",
    "# reasonable\n",
    "num_1 = 01134\n",
    "str_1 = \"hello\"\n",
    "list_1 = ['h','e','l','l','o']\n",
    "bool_1 = False\n",
    "\n",
    "# Special Characters - there are specific characters in python that act as \n",
    "# operators - you want to avoid using them\n",
    "symbols = set(r\"\"\"`~!@#$%^&*()_-+={[}}|\\:;\"'<,>.?/\"\"\")\n",
    "# If you must use them (say, in a string) you use the escape character '\\'\n",
    "\n",
    "# File names - these can have capital letters - but NO SPACES. \n",
    "# I'm not teaching you how to manage spaces in file names. Blech."
   ]
  },
  {
   "cell_type": "markdown",
   "id": "9cba2ac1-9e84-4a2c-acf6-b7346ad381ac",
   "metadata": {},
   "source": [
    "## Code Organization - a list\n",
    "\n",
    "* Generally, a line of code should be max 79 characters - this keeps it readable within standard computer screens without lateral scrolling\n",
    "* Use your white space - break your code into logical sections with a space before and after a group of related functions and oprerations\n",
    "* Following that, avoid adding unecessary whitespace in the middle of loops (more on that later) and if statements\n",
    "* Always give your code a Title Section - you want the Purpose of the code, the author, and the date created/last edited (as appropriate)\n",
    "* Always put your module imports at the top of the file, or at least the top of the code cell\n"
   ]
  },
  {
   "cell_type": "code",
   "execution_count": null,
   "id": "bfd2dcfb-8fa2-44f0-a0cd-d4f789a2bc88",
   "metadata": {},
   "outputs": [],
   "source": [
    "\"\"\" \n",
    "Whitespace \n",
    "\"\"\"\n",
    "\n",
    "# You want enough whitespace to make your code readable, but not so much \n",
    "# that it looks drunk\n",
    "not_enough=\"this is too squished\"\n",
    "too_much = [ 'my' , 'porridge' , False , 70 ]\n",
    "goldilocks = print(\"The value of Pi: \" + str(3.14))\n",
    "\n",
    "# For long lists, you might want to use multiple lines\n",
    "bio_247 = ['audrey',\n",
    "           'emily',\n",
    "           'pelin',\n",
    "           'jensynia',\n",
    "           'elijah',\n",
    "           'pooja',\n",
    "           'grace']\n",
    "bio_100 = ['genevieve',\n",
    "           'jules',\n",
    "           'sean',\n",
    "           'andrew',\n",
    "           'julian']"
   ]
  },
  {
   "cell_type": "markdown",
   "id": "68eb94a6-fbe2-4cd8-aa53-0d5556c52d33",
   "metadata": {},
   "source": [
    "## Placeholders\n",
    "\n",
    "There are times when you need to create dummy code. Either you're trying out a new function, or you're not sure of the variable yet, or you're posting to stack overflow and you don't want to reveal your secrets. \n",
    "\n",
    "Many (older) programmers use placeholders such as 'foo' or 'bar' these are nice and short, but not at all descriptive, and give you no clue as to what you were trying to do if you put your code down and try to pick it up later (unless you have a comment). Better placeholders are like those you see under Naming Conventions, where the name at least tells you what type of variable you have. \n",
    "\n",
    "When taking notes, we can borrow from the R style guidelines, and use the < > symbols to act as placeholders. For example, if I want to show you how to import a module in a general sense, I can do that with the following:\n",
    "\n",
    "`import <MODULE>`"
   ]
  },
  {
   "cell_type": "markdown",
   "id": "6ebcb9fb-1b4e-41fc-ac6b-1727c5064ca7",
   "metadata": {},
   "source": [
    "## Comments\n",
    "\n",
    "You knew it was coming - time for comments!! There are two main uses of comments in code - keeping notes, and writing formal documentation. Let's look at good examples of both:"
   ]
  },
  {
   "cell_type": "code",
   "execution_count": null,
   "id": "b68b2c21-2991-4989-ac94-6f51f88bbb27",
   "metadata": {},
   "outputs": [],
   "source": [
    "\"\"\"\n",
    "Good examples of comments\n",
    "\"\"\"\n",
    "\n",
    "# The above lines are examples of 'docstrings' there generally used for more\n",
    "# formal information, but can also be useful for organization\n",
    "# Believe it or not - we don't usually comment on module imports, \n",
    "# unless it's a rare one\n",
    "import random\n",
    "\n",
    "# Starting variables\n",
    "# Acceleration due to gravity (m/s^2)\n",
    "gravity = 9.8\n",
    "# Create a random starting height between 0 and 500 (m)\n",
    "height_st = random.uniform(0, 500)\n",
    "# Number of time steps for simulation, 5 seconds\n",
    "time = 5\n",
    "\n",
    "# Calculate the end height of the object dropped from height_st\n",
    "# Only calculate if height is greater than 125\n",
    "# 125 is the minimum height that would take at least 5 seconds to fall\n",
    "if height_st > 125:\n",
    "    # Calculate height using distance equation\n",
    "    # Comments align with code they are describing\n",
    "    height_end = height_st - (0.5*gravity*time**2)\n",
    "    # Output final height\n",
    "    # Convert height_end to string\n",
    "    print(\"Ending height: \" + str(height_end))\n",
    "# Else return 'splat'\n",
    "else:\n",
    "    print('SPLAT!')"
   ]
  },
  {
   "cell_type": "code",
   "execution_count": null,
   "id": "f0b0653a-4ea0-4860-8008-8b0417e77465",
   "metadata": {},
   "outputs": [],
   "source": [
    "### Bad Examples of comments\n",
    "\n",
    "# the worst comment is no comment at all\n",
    "\n",
    "num1 = 2.71828 #this is maybe the second worst comment - \n",
    "               #give them their own line! (unless the comment is 1-2 words)"
   ]
  },
  {
   "cell_type": "markdown",
   "id": "eb85edb6-4d02-4509-9bd6-0b957d4ad840",
   "metadata": {},
   "source": [
    "## Final Notes\n",
    "\n",
    "We'll cover docstrings again when we work on writing functions next week, but for now, you have a good start a writing some nice-looking code! Good luck!!"
   ]
  }
 ],
 "metadata": {
  "kernelspec": {
   "display_name": "Python 3 (ipykernel)",
   "language": "python",
   "name": "python3"
  },
  "language_info": {
   "codemirror_mode": {
    "name": "ipython",
    "version": 3
   },
   "file_extension": ".py",
   "mimetype": "text/x-python",
   "name": "python",
   "nbconvert_exporter": "python",
   "pygments_lexer": "ipython3",
   "version": "3.12.1"
  }
 },
 "nbformat": 4,
 "nbformat_minor": 5
}
