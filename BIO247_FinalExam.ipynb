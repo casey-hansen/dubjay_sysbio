{
 "cells": [
  {
   "cell_type": "raw",
   "id": "1dbe72f7-eacb-4e49-bbd4-7e60d1956203",
   "metadata": {},
   "source": [
    "---\n",
    "title: \"BIO247 - Final Exam\"\n",
    "author: Your Name\n",
    "date: 'Due Thursday 9 May at 6:00pm'\n",
    "format: \n",
    "  html:\n",
    "    code-fold: true\n",
    "jupyter: python3\n",
    "---"
   ]
  },
  {
   "cell_type": "code",
   "execution_count": null,
   "id": "a7757b0f-a987-41f0-954b-e5416a7bbf56",
   "metadata": {},
   "outputs": [],
   "source": [
    "'''\n",
    "Preamble\n",
    "'''\n",
    "\n",
    "# Put any Python modules you need here"
   ]
  },
  {
   "cell_type": "markdown",
   "id": "0f67aef9-f5a8-4cb5-933c-770980d063b1",
   "metadata": {},
   "source": [
    "# 1 Exam Introduction\n",
    "\n",
    "### 1.1 Exam Submission\n",
    "\n",
    "This document is your final exam. It must be submitted at a Quarto-rendered MS Word document. Any written work should be included as a figure within your exam answers (not attached to the end of your exam or as a separate file). \n",
    "\n",
    "### 1.2 Citing outside sources\n",
    "\n",
    "In this class, it's expected that you will look online for help when you get stuck. If you use any part of an online solution, you need to se sure it is properly cited. That means:\n",
    "\n",
    "* There is a in-text citation in the code (`# Code sourced from geeksforgeeks`)\n",
    "* There is formal citation included in a **markdown** cell below the coding cell with the following information\n",
    "    * What website or source you used\n",
    "    * If you used AI, a copy of your query\n",
    "    * If you found a help page or forum, a copy of the article/question title\n",
    "    * A link to your source, if relevant\n",
    " \n",
    "If you do not properly cite your sources in your exam, you will not get credit for your work\n",
    "\n",
    "### 1.3 Math in Markdown\n",
    "In this exam, you may wish to use mathematical formatting in your text. Markdown uses the same mathematical formatting a LaTeX, which is very easy to find. Some common examples are included here:\n",
    "\n",
    "To create a centered, formatted equation, use the `$$...$$ ` characters (you must have a blank line above and below). `$$E = mc^2$$` becomes\n",
    "\n",
    "$$E = mc^2$$\n",
    "\n",
    "To have mathematical symbols or variables within the text, you make use of the `$$` symbols. For example `$R$` becomes $R$. \n",
    "For greek letters, you simply use `$\\letter$` or `$Letter$` (depending on if you need the capitilized version or not. So `$\\delta$` becomes $\\delta$ and `$\\Delta$` becomes $\\Delta$. Some other useful syntax:\n",
    "\n",
    "* Superscripts (^): `$e^{3x}$` $\\rightarrow$ $e^{3x}$\n",
    "* Subscripts (_): `$k_{m+}$` $\\rightarrow$ $k_{m+}$\n",
    "* Right arrow (or left): `$\\rightarrow$` $\\rightarrow$\n",
    "\n",
    "For any other symbols, I recommend the website [Detexify](http://detexify.kirelabs.org/classify.html) (or use the Google machine). \n",
    "\n",
    "### 1.4 What if I get too stuck?\n",
    "If your code has an error, your file will not render through `Quarto`. If you genuinely feel you cannot complete a problem, but think you got close to the answer, the best way to submit your work is to comment out the entire code cell (`Ctrl/Cmd + /`)\n",
    "\n",
    "### 1.5 Grading\n",
    "This exam is 125 points, each question its point value clearly defined. If you have any questions, don't hesitate to ask the professor"
   ]
  },
  {
   "cell_type": "markdown",
   "id": "6197dded-f0c5-4f1c-a19d-9cb393333435",
   "metadata": {},
   "source": [
    "# 2 Network Motifs (40 points)\n",
    "In this problem, we're going to practice looking for feed-forward loops. We've previously looked at ways to search for \n",
    "\n",
    "$$X \\rightarrow Z$$\n",
    "\n",
    "Now, we want to be able to find Incoherent Type I FFLs. Remember that the cascade portion of a I1-FFL loop looks like\n",
    "\n",
    "$$X \\rightarrow Y \\dashv Z$$\n",
    "\n",
    "We have also previously practiced searching for cascades (Problem 5.3 in lab 8). Using these previous skills, create method for identifying I1-FFLs in a network"
   ]
  },
  {
   "cell_type": "code",
   "execution_count": null,
   "id": "0df0edc6-fcb3-46be-8568-6f2e5b657eb6",
   "metadata": {},
   "outputs": [],
   "source": [
    "\"\"\"\n",
    "Part (A) - Upload network data (5 points)\n",
    "\"\"\""
   ]
  },
  {
   "cell_type": "code",
   "execution_count": null,
   "id": "12aa833e-20ff-4fab-bd63-df111054001a",
   "metadata": {},
   "outputs": [],
   "source": [
    "\"\"\"\n",
    "Part (B) - Create a function to look for the cascade portion of the I1-FFL (15 points)\n",
    "\"\"\""
   ]
  },
  {
   "cell_type": "code",
   "execution_count": null,
   "id": "cac02542-7a18-4417-b485-0faf9b7f655f",
   "metadata": {},
   "outputs": [],
   "source": [
    "\"\"\"\n",
    "Part (C) - Create a function to identify I1-FFLs (10 points)\n",
    "\"\"\""
   ]
  },
  {
   "cell_type": "code",
   "execution_count": null,
   "id": "541b470e-7771-4d9a-8082-9582f845a8ba",
   "metadata": {},
   "outputs": [],
   "source": [
    "\"\"\"\n",
    "Part (D) - Count the number of I1-FFLs "
   ]
  },
  {
   "cell_type": "markdown",
   "id": "4c323197-5f78-415b-9011-59c77c17da53",
   "metadata": {},
   "source": [
    "## 3 Biochemical Kinetics (35 points)\n",
    "\n",
    "Let's take another look at phosphorylation cascades. In class, we proved the rate of double phosphorylation, and then we extrapolated this to believe that \n",
    "\n",
    "$$R_{p^n} = \\left(\\frac{K}{P}\\right)^n\\cdot R$$\n",
    "\n",
    "and\n",
    "\n",
    "$$Y_n = \\frac{S^n}{\\sum_{i=0}^{n}S_i}$$\n",
    "\n",
    "### Part(A) Prove this for the $n=5$ case (10 points)"
   ]
  },
  {
   "cell_type": "markdown",
   "id": "658d963c-51d0-42f9-aff1-9cd970c44bbe",
   "metadata": {},
   "source": [
    "### 3(A) solution\n",
    "\n",
    "write here"
   ]
  },
  {
   "cell_type": "markdown",
   "id": "c290ba95-0915-4f43-99de-19bf2a76c5c0",
   "metadata": {},
   "source": [
    "### Part (B) Plot the saturation curve for $n=5$, and also for $n=2$. Be sure to add a legend to your graph to make clear which line corresponds to which phosphorylation cascade (10 points for solution, 5 points for coding comments)"
   ]
  },
  {
   "cell_type": "code",
   "execution_count": null,
   "id": "1781a6c7-9c82-45a1-a579-e2044df3b950",
   "metadata": {},
   "outputs": [],
   "source": [
    "\"\"\"\n",
    "3(B) - compare saturation curves\n",
    "\"\"\""
   ]
  },
  {
   "cell_type": "markdown",
   "id": "aa6bd48b-853f-410f-8aef-fc25343f631d",
   "metadata": {},
   "source": [
    "### Part (C) What are the half-saturation values for $n=5$ and $n=2$? What does this difference mean biologically? (5 points)"
   ]
  },
  {
   "cell_type": "markdown",
   "id": "098b6d91-9e0c-465e-a649-32445f843234",
   "metadata": {},
   "source": [
    "### 3(C) solution\n",
    "\n",
    "write here"
   ]
  },
  {
   "cell_type": "markdown",
   "id": "a27a085f-462b-4e17-9eef-d9fe79d53088",
   "metadata": {},
   "source": [
    "### Part (D) Find a real-world example of a 4-phosphorylation cascade. What process does this cascade help regulate?. Don't forget to include your sources (5 points)"
   ]
  },
  {
   "cell_type": "markdown",
   "id": "364cf8ad-1c2a-4a96-beb2-8e8de225f303",
   "metadata": {},
   "source": [
    "### 3(D) Solution\n",
    "\n",
    "write here"
   ]
  },
  {
   "cell_type": "markdown",
   "id": "87249096-bdcb-4e03-9406-b11d2be62970",
   "metadata": {},
   "source": [
    "# 4 Discrete Modeling (50 points)\n",
    "\n",
    "The following figure shows some key players in the metabolic pathways that lead to alzheimer's disease. Considering only those nodes which are higlighted (AKT, PI3K, GSK-3$\\beta$, and Amyloid $\\beta$), create a discrete model of the system. \n",
    "\n",
    "**Notes**: Remember that PI3K exists in 3 states, inactive, minimally active, and maximally active. AKT also exists in 3 states - it has 2 phosphorylation sites, and both must contain phosphate groups for AKT to be considered fully active\n"
   ]
  },
  {
   "cell_type": "markdown",
   "id": "ab19a2b8-c842-4d17-826e-9f726cef13a8",
   "metadata": {},
   "source": [
    "### Part (A) What assumptions are you making for this model? (5 points)"
   ]
  },
  {
   "cell_type": "markdown",
   "id": "6a61f622-3eb0-4c4c-8845-682d921422f0",
   "metadata": {},
   "source": [
    "### 4(A) Solution\n",
    "\n",
    "write here"
   ]
  },
  {
   "cell_type": "code",
   "execution_count": null,
   "id": "7d5a433d-a338-4d55-b3f7-8d5d5f5d2993",
   "metadata": {},
   "outputs": [],
   "source": [
    "\"\"\"\n",
    "Part (B) - Define your initial states (5 points for states, 2 points for code) \n",
    "\"\"\""
   ]
  },
  {
   "cell_type": "code",
   "execution_count": null,
   "id": "c368ca1e-0efe-4351-a36a-76b7656128d3",
   "metadata": {},
   "outputs": [],
   "source": [
    "\"\"\"\n",
    "Part (C) - Define your update rules (10 points for rules, 3 points for code)\n",
    "\"\"\""
   ]
  },
  {
   "cell_type": "code",
   "execution_count": null,
   "id": "dc45a926-3ad0-4dac-8220-f2e79b988ac4",
   "metadata": {},
   "outputs": [],
   "source": [
    "\"\"\"\n",
    "Part (D) - Simulate your system for 25 time steps. Trace the value of each node, and plot their values over time \n",
    "(15 points for code, 5 points for comments)\n",
    "\"\"\"\n"
   ]
  },
  {
   "cell_type": "markdown",
   "id": "6e0daee2-ddfc-4208-a851-65d87cf1f2a1",
   "metadata": {},
   "source": [
    "### Part (E) What conclusions can you draw abotu your system from yout simulated model? (5 points)"
   ]
  },
  {
   "cell_type": "markdown",
   "id": "b8022b39-8b14-4809-bbf7-918e61f3b45b",
   "metadata": {},
   "source": [
    "### Part (E) Solution\n",
    "\n",
    "write here"
   ]
  },
  {
   "cell_type": "code",
   "execution_count": null,
   "id": "07713252-aa8f-414f-b7b1-e32b2e220d3e",
   "metadata": {},
   "outputs": [],
   "source": []
  }
 ],
 "metadata": {
  "kernelspec": {
   "display_name": "Python 3 (ipykernel)",
   "language": "python",
   "name": "python3"
  },
  "language_info": {
   "codemirror_mode": {
    "name": "ipython",
    "version": 3
   },
   "file_extension": ".py",
   "mimetype": "text/x-python",
   "name": "python",
   "nbconvert_exporter": "python",
   "pygments_lexer": "ipython3",
   "version": "3.12.1"
  }
 },
 "nbformat": 4,
 "nbformat_minor": 5
}
